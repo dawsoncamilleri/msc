{
  "nbformat": 4,
  "nbformat_minor": 0,
  "metadata": {
    "colab": {
      "provenance": [],
      "collapsed_sections": []
    },
    "kernelspec": {
      "name": "python3",
      "display_name": "Python 3"
    },
    "language_info": {
      "name": "python"
    }
  },
  "cells": [
    {
      "cell_type": "code",
      "source": [
        "!pip install googletrans==4.0.0-rc1\n",
        "\n",
        "from googletrans import Translator\n",
        "import pandas as pd                     \n",
        "\n",
        "translator = Translator()\n",
        "\n",
        "col_list = [\"post\",\"label\"]\n",
        "df = pd.read_csv(\"/content/PureMaltese.csv\", usecols=col_list, nrows=3000)\n",
        "\n",
        "\n",
        "\n",
        "  #Create a dictionary with translated words\n",
        "translatedCSV = { \"post\":[],\"label\":[]} #Change the column names accordingly to your coumns names\n",
        " \n",
        "ind = 0\n",
        "    #Translated word one by one from the CSV file and save them to the dictionary\n",
        "for index, row in df.iterrows():\n",
        "    translation = translator.translate(row[\"post\"], dest='EN')\n",
        "    translatedCSV[\"post\"].append(translation.text)\n",
        "    translatedCSV[\"label\"].append(row[\"label\"])\n",
        "\n",
        "    ind = ind + 1\n",
        "\n",
        "    print(translation.text)\n",
        "    #Create a Dataframe from Dictionary \n",
        "    #Save the DataFrame to a CSV file\n",
        "    if(ind == 50):\n",
        "      break\n",
        "\n",
        "\n",
        "df = pd.DataFrame(data=translatedCSV)\n",
        "df.to_csv(r'/content/sample_data/dawson.csv')\n",
        "\n",
        "print(df)\n",
        "\n",
        "\n",
        "df.to_csv(\"translatedCSVItalianToEnglish.csv\")\n",
        "    "
      ],
      "metadata": {
        "id": "GarwidD7JN2K",
        "colab": {
          "base_uri": "https://localhost:8080/"
        },
        "outputId": "ad07f293-548d-4dff-df53-5c8a1a1d0ccd"
      },
      "execution_count": null,
      "outputs": [
        {
          "output_type": "stream",
          "name": "stdout",
          "text": [
            "Looking in indexes: https://pypi.org/simple, https://us-python.pkg.dev/colab-wheels/public/simple/\n",
            "Requirement already satisfied: googletrans==4.0.0-rc1 in /usr/local/lib/python3.7/dist-packages (4.0.0rc1)\n",
            "Requirement already satisfied: httpx==0.13.3 in /usr/local/lib/python3.7/dist-packages (from googletrans==4.0.0-rc1) (0.13.3)\n",
            "Requirement already satisfied: certifi in /usr/local/lib/python3.7/dist-packages (from httpx==0.13.3->googletrans==4.0.0-rc1) (2022.6.15)\n",
            "Requirement already satisfied: idna==2.* in /usr/local/lib/python3.7/dist-packages (from httpx==0.13.3->googletrans==4.0.0-rc1) (2.10)\n",
            "Requirement already satisfied: hstspreload in /usr/local/lib/python3.7/dist-packages (from httpx==0.13.3->googletrans==4.0.0-rc1) (2022.7.10)\n",
            "Requirement already satisfied: sniffio in /usr/local/lib/python3.7/dist-packages (from httpx==0.13.3->googletrans==4.0.0-rc1) (1.2.0)\n",
            "Requirement already satisfied: httpcore==0.9.* in /usr/local/lib/python3.7/dist-packages (from httpx==0.13.3->googletrans==4.0.0-rc1) (0.9.1)\n",
            "Requirement already satisfied: chardet==3.* in /usr/local/lib/python3.7/dist-packages (from httpx==0.13.3->googletrans==4.0.0-rc1) (3.0.4)\n",
            "Requirement already satisfied: rfc3986<2,>=1.3 in /usr/local/lib/python3.7/dist-packages (from httpx==0.13.3->googletrans==4.0.0-rc1) (1.5.0)\n",
            "Requirement already satisfied: h11<0.10,>=0.8 in /usr/local/lib/python3.7/dist-packages (from httpcore==0.9.*->httpx==0.13.3->googletrans==4.0.0-rc1) (0.9.0)\n",
            "Requirement already satisfied: h2==3.* in /usr/local/lib/python3.7/dist-packages (from httpcore==0.9.*->httpx==0.13.3->googletrans==4.0.0-rc1) (3.2.0)\n",
            "Requirement already satisfied: hyperframe<6,>=5.2.0 in /usr/local/lib/python3.7/dist-packages (from h2==3.*->httpcore==0.9.*->httpx==0.13.3->googletrans==4.0.0-rc1) (5.2.0)\n",
            "Requirement already satisfied: hpack<4,>=3.0 in /usr/local/lib/python3.7/dist-packages (from h2==3.*->httpcore==0.9.*->httpx==0.13.3->googletrans==4.0.0-rc1) (3.0.0)\n",
            "Thanks and proset\n",
            "Proset .... a capable man and he knows what he is doing.Always run perfectly.\n",
            "Thanks and proset as always.\n",
            "I say this street from a village among Hal Lija\n",
            "The beautiful road ????Zabbar My Home Town\n",
            "Proset ???\n",
            "Too nice Conception.\n",
            "There are too beautiful!\n",
            "Proset some Em Beauty\n",
            "So is good if you are saying well\n",
            "Let's find out good was the uncle thank you of the support and all who did the share\n",
            "Thank you Lord\n",
            "Thank you really for your work\n",
            "I wish you a healing of your Child\n",
            "Gas Down Gol Hall We Was Dan Country\n",
            "You are well saying .... some sadness\n",
            "I'm nothing right\n",
            "I all agree with you but this sorry no\n",
            "are you serious ?????So everything should you now ????Normal we have normal please.\n",
            "This is a serija\n",
            "In this country miskina Malta\n",
            "A tragedy is still underway.\n",
            "Some sadness you have\n",
            "Great pessimism.\n",
            "Ignorant\n",
            "Some sadness of people fall in fever take a phacir falling\n",
            "X-rankings ????For the sake of yarn but!\n",
            "See really shaking everyone always lists klem\n",
            "Qazzizzzizzzizzzizzt everyone but the people will come back to you\n",
            "See true here who is ignorant and lit in blank !!Neither idea what a story brings that word behind.\n",
            "Ragl stupid the antipadk\n",
            "Prosette, thick\n",
            "Proset of everything, perfect and excellent work\n",
            "Zejtun always forgotten\n",
            "Against Europe and one lewel that doesn't happen there\n",
            "Handets with the Maltese people.We should not be able to pay these debts all and make us subjects for everything that gives us an outward.The blue and red governments will only be puppets.\n",
            "This monster has been sentenced to death\n",
            "We would have\n",
            "Paroli Paroli Paroli !!!!\n",
            "How did we get in this country..mafia Maltese\n",
            "So and.!!!!!!The rest words in blank\n",
            "A very good initiative.\n",
            "A nice real disc to give you feelings of nostalgia\n",
            "We wish you a nice partner's wishes\n",
            "Better so in truth\n",
            "Lies of true\n",
            "Arukaza of what is a shame\n",
            "Even if there is one death, for me also bad !!!!!\n",
            "Proset to anyone involved\n",
            "A wonderful example of love and solidarity.\n",
            "Congratulations.Keef safe and brave.And congratulations who was helping.\n",
            "                                                 post  label\n",
            "0                                   Thanks and proset      0\n",
            "1   Proset .... a capable man and he knows what he...      0\n",
            "2     I say this street from a village among Hal Lija      0\n",
            "3          The beautiful road ????Zabbar My Home Town      0\n",
            "4                                          Proset ???      0\n",
            "5                                Too nice Conception.      0\n",
            "6                            There are too beautiful!      0\n",
            "7                               Proset some Em Beauty      0\n",
            "8                   So is good if you are saying well      0\n",
            "9   Let's find out good was the uncle thank you of...      0\n",
            "10                                     Thank you Lord      0\n",
            "11                     Thank you really for your work      0\n",
            "12                 I wish you a healing of your Child      0\n",
            "13               Gas Down Gol Hall We Was Dan Country      1\n",
            "14              You are well saying .... some sadness      1\n",
            "15                                  I'm nothing right      1\n",
            "16             I all agree with you but this sorry no      1\n",
            "17  are you serious ?????So everything should you ...      1\n",
            "18                                   This is a serija      1\n",
            "19                      In this country miskina Malta      1\n",
            "20                       A tragedy is still underway.      1\n",
            "21                              Some sadness you have      1\n",
            "22                                   Great pessimism.      1\n",
            "23                                           Ignorant      1\n",
            "24  Some sadness of people fall in fever take a ph...      1\n",
            "25           X-rankings ????For the sake of yarn but!      1\n",
            "26      See really shaking everyone always lists klem      1\n",
            "27  Qazzizzzizzzizzzizzt everyone but the people w...      1\n",
            "28  See true here who is ignorant and lit in blank...      1\n",
            "29                           Ragl stupid the antipadk      1\n",
            "30                                    Prosette, thick      0\n",
            "31   Proset of everything, perfect and excellent work      0\n",
            "32                            Zejtun always forgotten      1\n",
            "33  Against Europe and one lewel that doesn't happ...      1\n",
            "34  Handets with the Maltese people.We should not ...      1\n",
            "35           This monster has been sentenced to death      1\n",
            "36                                      We would have      1\n",
            "37                          Paroli Paroli Paroli !!!!      1\n",
            "38      How did we get in this country..mafia Maltese      1\n",
            "39               So and.!!!!!!The rest words in blank      1\n",
            "40                            A very good initiative.      0\n",
            "41  A nice real disc to give you feelings of nosta...      0\n",
            "42                We wish you a nice partner's wishes      0\n",
            "43                                 Better so in truth      0\n",
            "44                                       Lies of true      1\n",
            "45                         Arukaza of what is a shame      1\n",
            "46  Even if there is one death, for me also bad !!!!!      1\n",
            "47                          Proset to anyone involved      0\n",
            "48        A wonderful example of love and solidarity.      0\n",
            "49  Congratulations.Keef safe and brave.And congra...      0\n"
          ]
        }
      ]
    },
    {
      "cell_type": "code",
      "execution_count": null,
      "metadata": {
        "id": "9dhKRsc9XglC"
      },
      "outputs": [],
      "source": [
        "# This Python 3 environment comes with many helpful analytics libraries installed\n",
        "# It is defined by the kaggle/python docker image: https://github.com/kaggle/docker-python\n",
        "# For example, here's several helpful packages to load in \n",
        "\n",
        "import numpy as np # linear algebra\n",
        "import pandas as pd # data processing, CSV file I/O (e.g. pd.read_csv)\n",
        "\n",
        "from sklearn.feature_extraction.text import CountVectorizer\n",
        "from keras.preprocessing.text import Tokenizer\n",
        "from keras.preprocessing.sequence import pad_sequences\n",
        "from keras.models import Sequential\n",
        "from keras.layers import Dense, Embedding, LSTM, SpatialDropout1D\n",
        "from sklearn.model_selection import train_test_split\n",
        "from keras.utils.np_utils import to_categorical\n",
        "import re\n",
        "\n",
        "# Input data files are available in the \"../input/\" directory.\n",
        "# For example, running this (by clicking run or pressing Shift+Enter) will list the files in the input directory"
      ]
    },
    {
      "cell_type": "code",
      "source": [
        "data = pd.read_csv('combined.csv')\n",
        "# Keeping only the neccessary columns\n",
        "data = data[['text','airline_sentiment']]\n",
        "data.text=data.text.astype(str)\n",
        "\n",
        "print(data.dtypes)\n"
      ],
      "metadata": {
        "id": "zZ3-9ADLXhYL",
        "colab": {
          "base_uri": "https://localhost:8080/"
        },
        "outputId": "4b5605bd-8696-4159-b970-1c0be963d80a"
      },
      "execution_count": null,
      "outputs": [
        {
          "output_type": "stream",
          "name": "stdout",
          "text": [
            "text                 object\n",
            "airline_sentiment    object\n",
            "dtype: object\n"
          ]
        },
        {
          "output_type": "stream",
          "name": "stderr",
          "text": [
            "/usr/local/lib/python3.7/dist-packages/pandas/core/generic.py:5516: SettingWithCopyWarning: \n",
            "A value is trying to be set on a copy of a slice from a DataFrame.\n",
            "Try using .loc[row_indexer,col_indexer] = value instead\n",
            "\n",
            "See the caveats in the documentation: https://pandas.pydata.org/pandas-docs/stable/user_guide/indexing.html#returning-a-view-versus-a-copy\n",
            "  self[name] = value\n"
          ]
        }
      ]
    },
    {
      "cell_type": "code",
      "source": [
        "data['text'] = data['text'].apply(lambda x: x.lower())\n"
      ],
      "metadata": {
        "id": "336bbFZrLIWl"
      },
      "execution_count": null,
      "outputs": []
    },
    {
      "cell_type": "code",
      "source": [
        "for col in data:\n",
        "    print(data['airline_sentiment'] .unique())"
      ],
      "metadata": {
        "colab": {
          "base_uri": "https://localhost:8080/"
        },
        "id": "ToPCeUwa8LDe",
        "outputId": "0ece6f8b-fb4d-442d-b15e-0a79294ef12c"
      },
      "execution_count": null,
      "outputs": [
        {
          "output_type": "stream",
          "name": "stdout",
          "text": [
            "['positive' 'negative']\n",
            "['positive' 'negative']\n"
          ]
        }
      ]
    },
    {
      "cell_type": "code",
      "source": [
        "#data = data[data.airline_sentiment != \"Neutral\"]\n",
        "data['text'] = data['text'].apply(lambda x: x.lower())\n",
        "#data['text'] = data['text'].apply((lambda x: re.sub('[^a-zA-z0-9\\s]','',x)))\n",
        "\n"
      ],
      "metadata": {
        "id": "XO2W8l6tXneS"
      },
      "execution_count": null,
      "outputs": []
    },
    {
      "cell_type": "code",
      "source": [
        "print(data['airline_sentiment'])"
      ],
      "metadata": {
        "colab": {
          "base_uri": "https://localhost:8080/"
        },
        "id": "V2AYfet5rRx5",
        "outputId": "c29379fe-026e-425e-c37c-17368b7b6173"
      },
      "execution_count": null,
      "outputs": [
        {
          "output_type": "stream",
          "name": "stdout",
          "text": [
            "0        POSITIVE\n",
            "1        NEGATIVE\n",
            "2        NEGATIVE\n",
            "3        NEGATIVE\n",
            "4        POSITIVE\n",
            "           ...   \n",
            "11939    POSITIVE\n",
            "11940    POSITIVE\n",
            "11941    POSITIVE\n",
            "11942    NEGATIVE\n",
            "11943    POSITIVE\n",
            "Name: airline_sentiment, Length: 11944, dtype: object\n"
          ]
        }
      ]
    },
    {
      "cell_type": "code",
      "source": [
        "data['airline_sentiment'] = data['airline_sentiment'].fillna(\"NEUTRAL\")"
      ],
      "metadata": {
        "id": "_ve460LQ7sA-"
      },
      "execution_count": null,
      "outputs": []
    },
    {
      "cell_type": "code",
      "source": [
        "data['text'] = data['text'].str.replace(\"where\", '')\n",
        "data['text'] = data['text'].str.replace(\"what\", '')\n",
        "data['text'] = data['text'].str.replace(\"how\", '')\n",
        "data['text'] = data['text'].str.replace(\"why\", '')\n",
        "\n",
        "data['text'] = data['text'].str.replace(\"fejn\", '')\n",
        "data['text'] = data['text'].str.replace(\"xix\", '')\n",
        "data['text'] = data['text'].str.replace(\"kif\", '')\n",
        "data['text'] = data['text'].str.replace(\"għaliex\", '')\n",
        "\n",
        "\n",
        "\n",
        "data['text'] = data['text'].str.replace(\"[0-9]\", '')\n",
        "data['text'].head(100)\n",
        "\n",
        "data['text'] = data['text'].str.replace('@[^\\s]+', '')\n",
        "data['text'].head(100)\n",
        "\n"
      ],
      "metadata": {
        "colab": {
          "base_uri": "https://localhost:8080/"
        },
        "id": "x1wW4fDVLUKg",
        "outputId": "f4a8b465-4079-4796-a51f-159ee3781287"
      },
      "execution_count": null,
      "outputs": [
        {
          "output_type": "stream",
          "name": "stderr",
          "text": [
            "/usr/local/lib/python3.7/dist-packages/ipykernel_launcher.py:13: FutureWarning: The default value of regex will change from True to False in a future version.\n",
            "  del sys.path[0]\n",
            "/usr/local/lib/python3.7/dist-packages/ipykernel_launcher.py:16: FutureWarning: The default value of regex will change from True to False in a future version.\n",
            "  app.launch_new_instance()\n"
          ]
        },
        {
          "output_type": "execute_result",
          "data": {
            "text/plain": [
              "0                                           dak li qal \n",
              "1           plus żidt riklami mal-esperjenza ... tacky.\n",
              "2      ma kontx illum ... għandi jfisser li għandi b...\n",
              "3      huwa tassew aggressiv li blast \"divertiment\" ...\n",
              "4                u hija ħaġa ħażina tassew kbira dwarha\n",
              "                            ...                        \n",
              "95     jien jien, jew il-websajt tiegħek qiegħda?btw...\n",
              "96     ma nistax niċċekkja jew inżid borża.il-websaj...\n",
              "97     - ħalli  skennjati fil-passiġġieri jitilqu mi...\n",
              "98     x'inhu n-numru tat-telefon tiegħek.ma nistax ...\n",
              "99     xi ħadd qed jagħmel xi ħaġa hemm illum?websaj...\n",
              "Name: text, Length: 100, dtype: object"
            ]
          },
          "metadata": {},
          "execution_count": 6
        }
      ]
    },
    {
      "cell_type": "code",
      "source": [
        "data['text'] = data['text'].str.replace(' i ', ' ')\n",
        "data['text'] = data['text'].str.replace('we', '')\n",
        "data['text'] = data['text'].str.replace('you', '')\n",
        "data['text'] = data['text'].str.replace('he', '')\n",
        "data['text'] = data['text'].str.replace('she', '')\n",
        "data['text'] = data['text'].str.replace('it', '')\n",
        "data['text'] = data['text'].str.replace('they', '')\n",
        "\n",
        "data['text'] = data['text'].str.replace('jien', '')\n",
        "data['text'] = data['text'].str.replace('jiena', '')\n",
        "data['text'] = data['text'].str.replace('int', '')\n",
        "data['text'] = data['text'].str.replace('inti', '')\n",
        "data['text'] = data['text'].str.replace('hu', '')\n",
        "data['text'] = data['text'].str.replace('hi', '')\n",
        "data['text'] = data['text'].str.replace('aħna', '')\n",
        "data['text'] = data['text'].str.replace('huma', '')\n",
        "\n",
        "data.head(100)"
      ],
      "metadata": {
        "colab": {
          "base_uri": "https://localhost:8080/",
          "height": 424
        },
        "id": "isKICmeLLUXe",
        "outputId": "34a1b4d6-356b-4cdb-aeac-f23fe98451e4"
      },
      "execution_count": null,
      "outputs": [
        {
          "output_type": "execute_result",
          "data": {
            "text/plain": [
              "                                                 text airline_sentiment\n",
              "0                                         dak li qal            NEUTRAL\n",
              "1         plus żidt riklami mal-esperjenza ... tacky.          POSITIVE\n",
              "2    ma kontx illum ... għandi jfisser li għandi b...           NEUTRAL\n",
              "3    wa tassew aggressiv li blast \"divertiment\" ob...          NEGATIVE\n",
              "4                u ja ħaġa ħażina tassew kbira dwarha          NEGATIVE\n",
              "..                                                ...               ...\n",
              "95    , jew il-bsajt tiegħek qiegħda?btw, il-bsajt...          NEGATIVE\n",
              "96   ma nistax niċċekkja jew inżid borża.il-bsajt ...          NEGATIVE\n",
              "97   - ħalli  skennjati fil-passiġġieri jilqu mill...          NEGATIVE\n",
              "98   x'in n-numru tat-telefon tiegħek.ma nistax in...          NEGATIVE\n",
              "99   xi ħadd qed jagħmel xi ħaġa mm illum?bsajt wa...          NEGATIVE\n",
              "\n",
              "[100 rows x 2 columns]"
            ],
            "text/html": [
              "\n",
              "  <div id=\"df-d7fa2c34-ac67-4201-92cf-da4afaa026f6\">\n",
              "    <div class=\"colab-df-container\">\n",
              "      <div>\n",
              "<style scoped>\n",
              "    .dataframe tbody tr th:only-of-type {\n",
              "        vertical-align: middle;\n",
              "    }\n",
              "\n",
              "    .dataframe tbody tr th {\n",
              "        vertical-align: top;\n",
              "    }\n",
              "\n",
              "    .dataframe thead th {\n",
              "        text-align: right;\n",
              "    }\n",
              "</style>\n",
              "<table border=\"1\" class=\"dataframe\">\n",
              "  <thead>\n",
              "    <tr style=\"text-align: right;\">\n",
              "      <th></th>\n",
              "      <th>text</th>\n",
              "      <th>airline_sentiment</th>\n",
              "    </tr>\n",
              "  </thead>\n",
              "  <tbody>\n",
              "    <tr>\n",
              "      <th>0</th>\n",
              "      <td>dak li qal</td>\n",
              "      <td>NEUTRAL</td>\n",
              "    </tr>\n",
              "    <tr>\n",
              "      <th>1</th>\n",
              "      <td>plus żidt riklami mal-esperjenza ... tacky.</td>\n",
              "      <td>POSITIVE</td>\n",
              "    </tr>\n",
              "    <tr>\n",
              "      <th>2</th>\n",
              "      <td>ma kontx illum ... għandi jfisser li għandi b...</td>\n",
              "      <td>NEUTRAL</td>\n",
              "    </tr>\n",
              "    <tr>\n",
              "      <th>3</th>\n",
              "      <td>wa tassew aggressiv li blast \"divertiment\" ob...</td>\n",
              "      <td>NEGATIVE</td>\n",
              "    </tr>\n",
              "    <tr>\n",
              "      <th>4</th>\n",
              "      <td>u ja ħaġa ħażina tassew kbira dwarha</td>\n",
              "      <td>NEGATIVE</td>\n",
              "    </tr>\n",
              "    <tr>\n",
              "      <th>...</th>\n",
              "      <td>...</td>\n",
              "      <td>...</td>\n",
              "    </tr>\n",
              "    <tr>\n",
              "      <th>95</th>\n",
              "      <td>, jew il-bsajt tiegħek qiegħda?btw, il-bsajt...</td>\n",
              "      <td>NEGATIVE</td>\n",
              "    </tr>\n",
              "    <tr>\n",
              "      <th>96</th>\n",
              "      <td>ma nistax niċċekkja jew inżid borża.il-bsajt ...</td>\n",
              "      <td>NEGATIVE</td>\n",
              "    </tr>\n",
              "    <tr>\n",
              "      <th>97</th>\n",
              "      <td>- ħalli  skennjati fil-passiġġieri jilqu mill...</td>\n",
              "      <td>NEGATIVE</td>\n",
              "    </tr>\n",
              "    <tr>\n",
              "      <th>98</th>\n",
              "      <td>x'in n-numru tat-telefon tiegħek.ma nistax in...</td>\n",
              "      <td>NEGATIVE</td>\n",
              "    </tr>\n",
              "    <tr>\n",
              "      <th>99</th>\n",
              "      <td>xi ħadd qed jagħmel xi ħaġa mm illum?bsajt wa...</td>\n",
              "      <td>NEGATIVE</td>\n",
              "    </tr>\n",
              "  </tbody>\n",
              "</table>\n",
              "<p>100 rows × 2 columns</p>\n",
              "</div>\n",
              "      <button class=\"colab-df-convert\" onclick=\"convertToInteractive('df-d7fa2c34-ac67-4201-92cf-da4afaa026f6')\"\n",
              "              title=\"Convert this dataframe to an interactive table.\"\n",
              "              style=\"display:none;\">\n",
              "        \n",
              "  <svg xmlns=\"http://www.w3.org/2000/svg\" height=\"24px\"viewBox=\"0 0 24 24\"\n",
              "       width=\"24px\">\n",
              "    <path d=\"M0 0h24v24H0V0z\" fill=\"none\"/>\n",
              "    <path d=\"M18.56 5.44l.94 2.06.94-2.06 2.06-.94-2.06-.94-.94-2.06-.94 2.06-2.06.94zm-11 1L8.5 8.5l.94-2.06 2.06-.94-2.06-.94L8.5 2.5l-.94 2.06-2.06.94zm10 10l.94 2.06.94-2.06 2.06-.94-2.06-.94-.94-2.06-.94 2.06-2.06.94z\"/><path d=\"M17.41 7.96l-1.37-1.37c-.4-.4-.92-.59-1.43-.59-.52 0-1.04.2-1.43.59L10.3 9.45l-7.72 7.72c-.78.78-.78 2.05 0 2.83L4 21.41c.39.39.9.59 1.41.59.51 0 1.02-.2 1.41-.59l7.78-7.78 2.81-2.81c.8-.78.8-2.07 0-2.86zM5.41 20L4 18.59l7.72-7.72 1.47 1.35L5.41 20z\"/>\n",
              "  </svg>\n",
              "      </button>\n",
              "      \n",
              "  <style>\n",
              "    .colab-df-container {\n",
              "      display:flex;\n",
              "      flex-wrap:wrap;\n",
              "      gap: 12px;\n",
              "    }\n",
              "\n",
              "    .colab-df-convert {\n",
              "      background-color: #E8F0FE;\n",
              "      border: none;\n",
              "      border-radius: 50%;\n",
              "      cursor: pointer;\n",
              "      display: none;\n",
              "      fill: #1967D2;\n",
              "      height: 32px;\n",
              "      padding: 0 0 0 0;\n",
              "      width: 32px;\n",
              "    }\n",
              "\n",
              "    .colab-df-convert:hover {\n",
              "      background-color: #E2EBFA;\n",
              "      box-shadow: 0px 1px 2px rgba(60, 64, 67, 0.3), 0px 1px 3px 1px rgba(60, 64, 67, 0.15);\n",
              "      fill: #174EA6;\n",
              "    }\n",
              "\n",
              "    [theme=dark] .colab-df-convert {\n",
              "      background-color: #3B4455;\n",
              "      fill: #D2E3FC;\n",
              "    }\n",
              "\n",
              "    [theme=dark] .colab-df-convert:hover {\n",
              "      background-color: #434B5C;\n",
              "      box-shadow: 0px 1px 3px 1px rgba(0, 0, 0, 0.15);\n",
              "      filter: drop-shadow(0px 1px 2px rgba(0, 0, 0, 0.3));\n",
              "      fill: #FFFFFF;\n",
              "    }\n",
              "  </style>\n",
              "\n",
              "      <script>\n",
              "        const buttonEl =\n",
              "          document.querySelector('#df-d7fa2c34-ac67-4201-92cf-da4afaa026f6 button.colab-df-convert');\n",
              "        buttonEl.style.display =\n",
              "          google.colab.kernel.accessAllowed ? 'block' : 'none';\n",
              "\n",
              "        async function convertToInteractive(key) {\n",
              "          const element = document.querySelector('#df-d7fa2c34-ac67-4201-92cf-da4afaa026f6');\n",
              "          const dataTable =\n",
              "            await google.colab.kernel.invokeFunction('convertToInteractive',\n",
              "                                                     [key], {});\n",
              "          if (!dataTable) return;\n",
              "\n",
              "          const docLinkHtml = 'Like what you see? Visit the ' +\n",
              "            '<a target=\"_blank\" href=https://colab.research.google.com/notebooks/data_table.ipynb>data table notebook</a>'\n",
              "            + ' to learn more about interactive tables.';\n",
              "          element.innerHTML = '';\n",
              "          dataTable['output_type'] = 'display_data';\n",
              "          await google.colab.output.renderOutput(dataTable, element);\n",
              "          const docLink = document.createElement('div');\n",
              "          docLink.innerHTML = docLinkHtml;\n",
              "          element.appendChild(docLink);\n",
              "        }\n",
              "      </script>\n",
              "    </div>\n",
              "  </div>\n",
              "  "
            ]
          },
          "metadata": {},
          "execution_count": 7
        }
      ]
    },
    {
      "cell_type": "code",
      "source": [
        "data['text'] = data['text'].str.replace(' a ', ' ')\n",
        "data['text'] = data['text'].str.replace('and', '')\n",
        "data['text'] = data['text'].str.replace('an', '')\n",
        "data['text'] = data['text'].str.replace('the', '')\n",
        "\n",
        "data['text'] = data['text'].str.replace(' u ', ' ')\n",
        "data['text'] = data['text'].str.replace('l-', '')\n",
        "data['text'] = data['text'].str.replace('xi', '')\n",
        "data['text'] = data['text'].str.replace('ftit', '')\n",
        "data['text'] = data['text'].str.replace('wieħed', '')\n",
        "data['text'] = data['text'].str.replace('waħda', '')\n",
        "\n",
        " \n",
        "\n",
        "data.head(100)"
      ],
      "metadata": {
        "colab": {
          "base_uri": "https://localhost:8080/",
          "height": 424
        },
        "id": "N_UK94y-LUaI",
        "outputId": "e96ab17a-faed-4e1f-8665-4627cec48d8d"
      },
      "execution_count": null,
      "outputs": [
        {
          "output_type": "execute_result",
          "data": {
            "text/plain": [
              "                                                 text airline_sentiment\n",
              "0                                         dak li qal            NEUTRAL\n",
              "1           plus żidt riklami maesperjenza ... tacky.          POSITIVE\n",
              "2    ma kontx illum ... għi jfisser li għi bżonn n...           NEUTRAL\n",
              "3    wa tassew aggressiv li blast \"divertiment\" ob...          NEGATIVE\n",
              "4                  ja ħaġa ħażina tassew kbira dwarha          NEGATIVE\n",
              "..                                                ...               ...\n",
              "95    , jew ibsajt tiegħek qiegħda?btw, ibsajt iġd...          NEGATIVE\n",
              "96   ma nistax niċċekkja jew inżid borża.ibsajt ti...          NEGATIVE\n",
              "97   - ħalli  skennjati fipassiġġieri jilqu milajr...          NEGATIVE\n",
              "98   x'in n-numru tat-telefon tiegħek.ma nistax in...          NEGATIVE\n",
              "99    ħadd qed jagħmel  ħaġa mm illum?bsajt wa inu...          NEGATIVE\n",
              "\n",
              "[100 rows x 2 columns]"
            ],
            "text/html": [
              "\n",
              "  <div id=\"df-11202663-cacf-484d-b99d-63161054de80\">\n",
              "    <div class=\"colab-df-container\">\n",
              "      <div>\n",
              "<style scoped>\n",
              "    .dataframe tbody tr th:only-of-type {\n",
              "        vertical-align: middle;\n",
              "    }\n",
              "\n",
              "    .dataframe tbody tr th {\n",
              "        vertical-align: top;\n",
              "    }\n",
              "\n",
              "    .dataframe thead th {\n",
              "        text-align: right;\n",
              "    }\n",
              "</style>\n",
              "<table border=\"1\" class=\"dataframe\">\n",
              "  <thead>\n",
              "    <tr style=\"text-align: right;\">\n",
              "      <th></th>\n",
              "      <th>text</th>\n",
              "      <th>airline_sentiment</th>\n",
              "    </tr>\n",
              "  </thead>\n",
              "  <tbody>\n",
              "    <tr>\n",
              "      <th>0</th>\n",
              "      <td>dak li qal</td>\n",
              "      <td>NEUTRAL</td>\n",
              "    </tr>\n",
              "    <tr>\n",
              "      <th>1</th>\n",
              "      <td>plus żidt riklami maesperjenza ... tacky.</td>\n",
              "      <td>POSITIVE</td>\n",
              "    </tr>\n",
              "    <tr>\n",
              "      <th>2</th>\n",
              "      <td>ma kontx illum ... għi jfisser li għi bżonn n...</td>\n",
              "      <td>NEUTRAL</td>\n",
              "    </tr>\n",
              "    <tr>\n",
              "      <th>3</th>\n",
              "      <td>wa tassew aggressiv li blast \"divertiment\" ob...</td>\n",
              "      <td>NEGATIVE</td>\n",
              "    </tr>\n",
              "    <tr>\n",
              "      <th>4</th>\n",
              "      <td>ja ħaġa ħażina tassew kbira dwarha</td>\n",
              "      <td>NEGATIVE</td>\n",
              "    </tr>\n",
              "    <tr>\n",
              "      <th>...</th>\n",
              "      <td>...</td>\n",
              "      <td>...</td>\n",
              "    </tr>\n",
              "    <tr>\n",
              "      <th>95</th>\n",
              "      <td>, jew ibsajt tiegħek qiegħda?btw, ibsajt iġd...</td>\n",
              "      <td>NEGATIVE</td>\n",
              "    </tr>\n",
              "    <tr>\n",
              "      <th>96</th>\n",
              "      <td>ma nistax niċċekkja jew inżid borża.ibsajt ti...</td>\n",
              "      <td>NEGATIVE</td>\n",
              "    </tr>\n",
              "    <tr>\n",
              "      <th>97</th>\n",
              "      <td>- ħalli  skennjati fipassiġġieri jilqu milajr...</td>\n",
              "      <td>NEGATIVE</td>\n",
              "    </tr>\n",
              "    <tr>\n",
              "      <th>98</th>\n",
              "      <td>x'in n-numru tat-telefon tiegħek.ma nistax in...</td>\n",
              "      <td>NEGATIVE</td>\n",
              "    </tr>\n",
              "    <tr>\n",
              "      <th>99</th>\n",
              "      <td>ħadd qed jagħmel  ħaġa mm illum?bsajt wa inu...</td>\n",
              "      <td>NEGATIVE</td>\n",
              "    </tr>\n",
              "  </tbody>\n",
              "</table>\n",
              "<p>100 rows × 2 columns</p>\n",
              "</div>\n",
              "      <button class=\"colab-df-convert\" onclick=\"convertToInteractive('df-11202663-cacf-484d-b99d-63161054de80')\"\n",
              "              title=\"Convert this dataframe to an interactive table.\"\n",
              "              style=\"display:none;\">\n",
              "        \n",
              "  <svg xmlns=\"http://www.w3.org/2000/svg\" height=\"24px\"viewBox=\"0 0 24 24\"\n",
              "       width=\"24px\">\n",
              "    <path d=\"M0 0h24v24H0V0z\" fill=\"none\"/>\n",
              "    <path d=\"M18.56 5.44l.94 2.06.94-2.06 2.06-.94-2.06-.94-.94-2.06-.94 2.06-2.06.94zm-11 1L8.5 8.5l.94-2.06 2.06-.94-2.06-.94L8.5 2.5l-.94 2.06-2.06.94zm10 10l.94 2.06.94-2.06 2.06-.94-2.06-.94-.94-2.06-.94 2.06-2.06.94z\"/><path d=\"M17.41 7.96l-1.37-1.37c-.4-.4-.92-.59-1.43-.59-.52 0-1.04.2-1.43.59L10.3 9.45l-7.72 7.72c-.78.78-.78 2.05 0 2.83L4 21.41c.39.39.9.59 1.41.59.51 0 1.02-.2 1.41-.59l7.78-7.78 2.81-2.81c.8-.78.8-2.07 0-2.86zM5.41 20L4 18.59l7.72-7.72 1.47 1.35L5.41 20z\"/>\n",
              "  </svg>\n",
              "      </button>\n",
              "      \n",
              "  <style>\n",
              "    .colab-df-container {\n",
              "      display:flex;\n",
              "      flex-wrap:wrap;\n",
              "      gap: 12px;\n",
              "    }\n",
              "\n",
              "    .colab-df-convert {\n",
              "      background-color: #E8F0FE;\n",
              "      border: none;\n",
              "      border-radius: 50%;\n",
              "      cursor: pointer;\n",
              "      display: none;\n",
              "      fill: #1967D2;\n",
              "      height: 32px;\n",
              "      padding: 0 0 0 0;\n",
              "      width: 32px;\n",
              "    }\n",
              "\n",
              "    .colab-df-convert:hover {\n",
              "      background-color: #E2EBFA;\n",
              "      box-shadow: 0px 1px 2px rgba(60, 64, 67, 0.3), 0px 1px 3px 1px rgba(60, 64, 67, 0.15);\n",
              "      fill: #174EA6;\n",
              "    }\n",
              "\n",
              "    [theme=dark] .colab-df-convert {\n",
              "      background-color: #3B4455;\n",
              "      fill: #D2E3FC;\n",
              "    }\n",
              "\n",
              "    [theme=dark] .colab-df-convert:hover {\n",
              "      background-color: #434B5C;\n",
              "      box-shadow: 0px 1px 3px 1px rgba(0, 0, 0, 0.15);\n",
              "      filter: drop-shadow(0px 1px 2px rgba(0, 0, 0, 0.3));\n",
              "      fill: #FFFFFF;\n",
              "    }\n",
              "  </style>\n",
              "\n",
              "      <script>\n",
              "        const buttonEl =\n",
              "          document.querySelector('#df-11202663-cacf-484d-b99d-63161054de80 button.colab-df-convert');\n",
              "        buttonEl.style.display =\n",
              "          google.colab.kernel.accessAllowed ? 'block' : 'none';\n",
              "\n",
              "        async function convertToInteractive(key) {\n",
              "          const element = document.querySelector('#df-11202663-cacf-484d-b99d-63161054de80');\n",
              "          const dataTable =\n",
              "            await google.colab.kernel.invokeFunction('convertToInteractive',\n",
              "                                                     [key], {});\n",
              "          if (!dataTable) return;\n",
              "\n",
              "          const docLinkHtml = 'Like what you see? Visit the ' +\n",
              "            '<a target=\"_blank\" href=https://colab.research.google.com/notebooks/data_table.ipynb>data table notebook</a>'\n",
              "            + ' to learn more about interactive tables.';\n",
              "          element.innerHTML = '';\n",
              "          dataTable['output_type'] = 'display_data';\n",
              "          await google.colab.output.renderOutput(dataTable, element);\n",
              "          const docLink = document.createElement('div');\n",
              "          docLink.innerHTML = docLinkHtml;\n",
              "          element.appendChild(docLink);\n",
              "        }\n",
              "      </script>\n",
              "    </div>\n",
              "  </div>\n",
              "  "
            ]
          },
          "metadata": {},
          "execution_count": 8
        }
      ]
    },
    {
      "cell_type": "code",
      "source": [],
      "metadata": {
        "id": "A87QszyQLUc_"
      },
      "execution_count": null,
      "outputs": []
    },
    {
      "cell_type": "code",
      "source": [],
      "metadata": {
        "id": "X1XQd0rVLUmm"
      },
      "execution_count": null,
      "outputs": []
    },
    {
      "cell_type": "code",
      "source": [
        "print(data[ data['airline_sentiment'] == 'Positive'].size)\n",
        "print(data[ data['airline_sentiment'] == 'Negative'].size)\n",
        "\n",
        "for idx,row in data.iterrows():\n",
        "    row[0] = row[0].replace('rt',' ')\n",
        "    \n",
        "max_fatures = 2000\n",
        "tokenizer = Tokenizer(num_words=max_fatures, split=' ')\n",
        "tokenizer.fit_on_texts(data['text'].values)\n",
        "X = tokenizer.texts_to_sequences(data['text'].values)\n",
        "X = pad_sequences(X)"
      ],
      "metadata": {
        "colab": {
          "base_uri": "https://localhost:8080/"
        },
        "id": "EvgRb8-YCURB",
        "outputId": "2615a01d-e0fe-48bd-fa5f-e4a867407198"
      },
      "execution_count": null,
      "outputs": [
        {
          "output_type": "stream",
          "name": "stdout",
          "text": [
            "0\n",
            "0\n"
          ]
        }
      ]
    },
    {
      "cell_type": "code",
      "source": [
        "print(data['airline_sentiment'])"
      ],
      "metadata": {
        "colab": {
          "base_uri": "https://localhost:8080/"
        },
        "id": "xN8zA2jFk14P",
        "outputId": "5cb5511a-f1e8-4c0b-bc9b-9f9fedd18f49"
      },
      "execution_count": null,
      "outputs": [
        {
          "output_type": "stream",
          "name": "stdout",
          "text": [
            "0        POSITIVE\n",
            "1        NEGATIVE\n",
            "2        NEGATIVE\n",
            "3        NEGATIVE\n",
            "4        POSITIVE\n",
            "           ...   \n",
            "11939    POSITIVE\n",
            "11940    POSITIVE\n",
            "11941    POSITIVE\n",
            "11942    NEGATIVE\n",
            "11943    POSITIVE\n",
            "Name: airline_sentiment, Length: 11944, dtype: object\n"
          ]
        }
      ]
    },
    {
      "cell_type": "code",
      "source": [],
      "metadata": {
        "id": "ZxQHS8jBk0HC"
      },
      "execution_count": null,
      "outputs": []
    },
    {
      "cell_type": "code",
      "source": [
        "embed_dim = 128\n",
        "lstm_out = 196\n",
        "\n",
        "model = Sequential()\n",
        "model.add(Embedding(max_fatures, embed_dim,input_length = X.shape[1]))\n",
        "model.add(SpatialDropout1D(0.4))\n",
        "model.add(LSTM(lstm_out, dropout=0.2, recurrent_dropout=0.2))\n",
        "model.add(Dense(2,activation='softmax'))\n",
        "model.compile(loss = 'categorical_crossentropy', optimizer='adam',metrics = ['accuracy'])\n",
        "print(model.summary())"
      ],
      "metadata": {
        "colab": {
          "base_uri": "https://localhost:8080/"
        },
        "id": "sKY3BBbSXwAM",
        "outputId": "6a3b81bc-d6ca-41f8-9e8a-b677e68fc6d7"
      },
      "execution_count": null,
      "outputs": [
        {
          "output_type": "stream",
          "name": "stdout",
          "text": [
            "Model: \"sequential\"\n",
            "_________________________________________________________________\n",
            " Layer (type)                Output Shape              Param #   \n",
            "=================================================================\n",
            " embedding (Embedding)       (None, 47, 128)           256000    \n",
            "                                                                 \n",
            " spatial_dropout1d (SpatialD  (None, 47, 128)          0         \n",
            " ropout1D)                                                       \n",
            "                                                                 \n",
            " lstm (LSTM)                 (None, 196)               254800    \n",
            "                                                                 \n",
            " dense (Dense)               (None, 2)                 394       \n",
            "                                                                 \n",
            "=================================================================\n",
            "Total params: 511,194\n",
            "Trainable params: 511,194\n",
            "Non-trainable params: 0\n",
            "_________________________________________________________________\n",
            "None\n"
          ]
        }
      ]
    },
    {
      "cell_type": "code",
      "source": [
        "Y = pd.get_dummies(data['airline_sentiment']).values\n",
        "X_train, X_test, Y_train, Y_test = train_test_split(X,Y, test_size = 0.01, random_state = 42)\n",
        "print(X_train.shape,Y_train.shape)\n",
        "print(X_test.shape,Y_test.shape)"
      ],
      "metadata": {
        "colab": {
          "base_uri": "https://localhost:8080/"
        },
        "id": "MvyirS4rXzoi",
        "outputId": "23808216-3487-4d6d-9975-d9dcdca6c139"
      },
      "execution_count": null,
      "outputs": [
        {
          "output_type": "stream",
          "name": "stdout",
          "text": [
            "(11824, 47) (11824, 2)\n",
            "(120, 47) (120, 2)\n"
          ]
        }
      ]
    },
    {
      "cell_type": "code",
      "source": [
        "print(Y_train)"
      ],
      "metadata": {
        "colab": {
          "base_uri": "https://localhost:8080/"
        },
        "id": "uDTtd8I5lKIB",
        "outputId": "e456b3d6-8361-43b0-f064-08e6992eedc9"
      },
      "execution_count": null,
      "outputs": [
        {
          "output_type": "stream",
          "name": "stdout",
          "text": [
            "[[1 0]\n",
            " [1 0]\n",
            " [0 1]\n",
            " ...\n",
            " [0 1]\n",
            " [1 0]\n",
            " [1 0]]\n"
          ]
        }
      ]
    },
    {
      "cell_type": "code",
      "source": [
        "batch_size = 32\n",
        "model.fit(X_train, Y_train, epochs = 7, batch_size=batch_size, verbose = 1)"
      ],
      "metadata": {
        "colab": {
          "base_uri": "https://localhost:8080/"
        },
        "id": "t9yJ3APbX3Q6",
        "outputId": "6d0e180c-a599-4d23-9922-4c5a1b5d99c9"
      },
      "execution_count": null,
      "outputs": [
        {
          "output_type": "stream",
          "name": "stdout",
          "text": [
            "Epoch 1/7\n",
            "370/370 [==============================] - 97s 254ms/step - loss: 0.3164 - accuracy: 0.8677\n",
            "Epoch 2/7\n",
            "370/370 [==============================] - 103s 278ms/step - loss: 0.2037 - accuracy: 0.9208\n",
            "Epoch 3/7\n",
            "370/370 [==============================] - 95s 257ms/step - loss: 0.1659 - accuracy: 0.9349\n",
            "Epoch 4/7\n",
            "370/370 [==============================] - 94s 255ms/step - loss: 0.1453 - accuracy: 0.9436\n",
            "Epoch 5/7\n",
            "370/370 [==============================] - 96s 258ms/step - loss: 0.1245 - accuracy: 0.9519\n",
            "Epoch 6/7\n",
            "370/370 [==============================] - 95s 256ms/step - loss: 0.1074 - accuracy: 0.9569\n",
            "Epoch 7/7\n",
            "370/370 [==============================] - 94s 254ms/step - loss: 0.0946 - accuracy: 0.9637\n"
          ]
        },
        {
          "output_type": "execute_result",
          "data": {
            "text/plain": [
              "<keras.callbacks.History at 0x7f5532b9ab50>"
            ]
          },
          "metadata": {},
          "execution_count": 12
        }
      ]
    },
    {
      "cell_type": "code",
      "source": [
        "validation_size = 1500\n",
        "\n",
        "X_validate = X_test[-validation_size:]\n",
        "Y_validate = Y_test[-validation_size:]\n",
        "X_test = X_test[:-validation_size]\n",
        "Y_test = Y_test[:-validation_size]\n",
        "score,acc = model.evaluate(X_test, Y_test, verbose = 2, batch_size = batch_size)\n",
        "print(\"score: %.2f\" % (score))\n",
        "print(\"acc: %.2f\" % (acc))"
      ],
      "metadata": {
        "colab": {
          "base_uri": "https://localhost:8080/",
          "height": 415
        },
        "id": "b_-wrKVoZhWb",
        "outputId": "a7548445-ed59-4148-e626-667573e0a82d"
      },
      "execution_count": null,
      "outputs": [
        {
          "output_type": "stream",
          "name": "stderr",
          "text": [
            "/usr/local/lib/python3.7/dist-packages/keras/utils/generic_utils.py:981: RuntimeWarning: divide by zero encountered in log10\n",
            "  numdigits = int(np.log10(self.target)) + 1\n"
          ]
        },
        {
          "output_type": "error",
          "ename": "OverflowError",
          "evalue": "ignored",
          "traceback": [
            "\u001b[0;31m---------------------------------------------------------------------------\u001b[0m",
            "\u001b[0;31mOverflowError\u001b[0m                             Traceback (most recent call last)",
            "\u001b[0;32m<ipython-input-8-1e54ca793183>\u001b[0m in \u001b[0;36m<module>\u001b[0;34m()\u001b[0m\n\u001b[1;32m      5\u001b[0m \u001b[0mX_test\u001b[0m \u001b[0;34m=\u001b[0m \u001b[0mX_test\u001b[0m\u001b[0;34m[\u001b[0m\u001b[0;34m:\u001b[0m\u001b[0;34m-\u001b[0m\u001b[0mvalidation_size\u001b[0m\u001b[0;34m]\u001b[0m\u001b[0;34m\u001b[0m\u001b[0;34m\u001b[0m\u001b[0m\n\u001b[1;32m      6\u001b[0m \u001b[0mY_test\u001b[0m \u001b[0;34m=\u001b[0m \u001b[0mY_test\u001b[0m\u001b[0;34m[\u001b[0m\u001b[0;34m:\u001b[0m\u001b[0;34m-\u001b[0m\u001b[0mvalidation_size\u001b[0m\u001b[0;34m]\u001b[0m\u001b[0;34m\u001b[0m\u001b[0;34m\u001b[0m\u001b[0m\n\u001b[0;32m----> 7\u001b[0;31m \u001b[0mscore\u001b[0m\u001b[0;34m,\u001b[0m\u001b[0macc\u001b[0m \u001b[0;34m=\u001b[0m \u001b[0mmodel\u001b[0m\u001b[0;34m.\u001b[0m\u001b[0mevaluate\u001b[0m\u001b[0;34m(\u001b[0m\u001b[0mX_test\u001b[0m\u001b[0;34m,\u001b[0m \u001b[0mY_test\u001b[0m\u001b[0;34m,\u001b[0m \u001b[0mverbose\u001b[0m \u001b[0;34m=\u001b[0m \u001b[0;36m2\u001b[0m\u001b[0;34m,\u001b[0m \u001b[0mbatch_size\u001b[0m \u001b[0;34m=\u001b[0m \u001b[0mbatch_size\u001b[0m\u001b[0;34m)\u001b[0m\u001b[0;34m\u001b[0m\u001b[0;34m\u001b[0m\u001b[0m\n\u001b[0m\u001b[1;32m      8\u001b[0m \u001b[0mprint\u001b[0m\u001b[0;34m(\u001b[0m\u001b[0;34m\"score: %.2f\"\u001b[0m \u001b[0;34m%\u001b[0m \u001b[0;34m(\u001b[0m\u001b[0mscore\u001b[0m\u001b[0;34m)\u001b[0m\u001b[0;34m)\u001b[0m\u001b[0;34m\u001b[0m\u001b[0;34m\u001b[0m\u001b[0m\n\u001b[1;32m      9\u001b[0m \u001b[0mprint\u001b[0m\u001b[0;34m(\u001b[0m\u001b[0;34m\"acc: %.2f\"\u001b[0m \u001b[0;34m%\u001b[0m \u001b[0;34m(\u001b[0m\u001b[0macc\u001b[0m\u001b[0;34m)\u001b[0m\u001b[0;34m)\u001b[0m\u001b[0;34m\u001b[0m\u001b[0;34m\u001b[0m\u001b[0m\n",
            "\u001b[0;32m/usr/local/lib/python3.7/dist-packages/keras/utils/traceback_utils.py\u001b[0m in \u001b[0;36merror_handler\u001b[0;34m(*args, **kwargs)\u001b[0m\n\u001b[1;32m     65\u001b[0m     \u001b[0;32mexcept\u001b[0m \u001b[0mException\u001b[0m \u001b[0;32mas\u001b[0m \u001b[0me\u001b[0m\u001b[0;34m:\u001b[0m  \u001b[0;31m# pylint: disable=broad-except\u001b[0m\u001b[0;34m\u001b[0m\u001b[0;34m\u001b[0m\u001b[0m\n\u001b[1;32m     66\u001b[0m       \u001b[0mfiltered_tb\u001b[0m \u001b[0;34m=\u001b[0m \u001b[0m_process_traceback_frames\u001b[0m\u001b[0;34m(\u001b[0m\u001b[0me\u001b[0m\u001b[0;34m.\u001b[0m\u001b[0m__traceback__\u001b[0m\u001b[0;34m)\u001b[0m\u001b[0;34m\u001b[0m\u001b[0;34m\u001b[0m\u001b[0m\n\u001b[0;32m---> 67\u001b[0;31m       \u001b[0;32mraise\u001b[0m \u001b[0me\u001b[0m\u001b[0;34m.\u001b[0m\u001b[0mwith_traceback\u001b[0m\u001b[0;34m(\u001b[0m\u001b[0mfiltered_tb\u001b[0m\u001b[0;34m)\u001b[0m \u001b[0;32mfrom\u001b[0m \u001b[0;32mNone\u001b[0m\u001b[0;34m\u001b[0m\u001b[0;34m\u001b[0m\u001b[0m\n\u001b[0m\u001b[1;32m     68\u001b[0m     \u001b[0;32mfinally\u001b[0m\u001b[0;34m:\u001b[0m\u001b[0;34m\u001b[0m\u001b[0;34m\u001b[0m\u001b[0m\n\u001b[1;32m     69\u001b[0m       \u001b[0;32mdel\u001b[0m \u001b[0mfiltered_tb\u001b[0m\u001b[0;34m\u001b[0m\u001b[0;34m\u001b[0m\u001b[0m\n",
            "\u001b[0;32m/usr/local/lib/python3.7/dist-packages/keras/utils/generic_utils.py\u001b[0m in \u001b[0;36mupdate\u001b[0;34m(self, current, values, finalize)\u001b[0m\n\u001b[1;32m    979\u001b[0m     \u001b[0;32melif\u001b[0m \u001b[0mself\u001b[0m\u001b[0;34m.\u001b[0m\u001b[0mverbose\u001b[0m \u001b[0;34m==\u001b[0m \u001b[0;36m2\u001b[0m\u001b[0;34m:\u001b[0m\u001b[0;34m\u001b[0m\u001b[0;34m\u001b[0m\u001b[0m\n\u001b[1;32m    980\u001b[0m       \u001b[0;32mif\u001b[0m \u001b[0mfinalize\u001b[0m\u001b[0;34m:\u001b[0m\u001b[0;34m\u001b[0m\u001b[0;34m\u001b[0m\u001b[0m\n\u001b[0;32m--> 981\u001b[0;31m         \u001b[0mnumdigits\u001b[0m \u001b[0;34m=\u001b[0m \u001b[0mint\u001b[0m\u001b[0;34m(\u001b[0m\u001b[0mnp\u001b[0m\u001b[0;34m.\u001b[0m\u001b[0mlog10\u001b[0m\u001b[0;34m(\u001b[0m\u001b[0mself\u001b[0m\u001b[0;34m.\u001b[0m\u001b[0mtarget\u001b[0m\u001b[0;34m)\u001b[0m\u001b[0;34m)\u001b[0m \u001b[0;34m+\u001b[0m \u001b[0;36m1\u001b[0m\u001b[0;34m\u001b[0m\u001b[0;34m\u001b[0m\u001b[0m\n\u001b[0m\u001b[1;32m    982\u001b[0m         \u001b[0mcount\u001b[0m \u001b[0;34m=\u001b[0m \u001b[0;34m(\u001b[0m\u001b[0;34m'%'\u001b[0m \u001b[0;34m+\u001b[0m \u001b[0mstr\u001b[0m\u001b[0;34m(\u001b[0m\u001b[0mnumdigits\u001b[0m\u001b[0;34m)\u001b[0m \u001b[0;34m+\u001b[0m \u001b[0;34m'd/%d'\u001b[0m\u001b[0;34m)\u001b[0m \u001b[0;34m%\u001b[0m \u001b[0;34m(\u001b[0m\u001b[0mcurrent\u001b[0m\u001b[0;34m,\u001b[0m \u001b[0mself\u001b[0m\u001b[0;34m.\u001b[0m\u001b[0mtarget\u001b[0m\u001b[0;34m)\u001b[0m\u001b[0;34m\u001b[0m\u001b[0;34m\u001b[0m\u001b[0m\n\u001b[1;32m    983\u001b[0m         \u001b[0minfo\u001b[0m \u001b[0;34m=\u001b[0m \u001b[0mcount\u001b[0m \u001b[0;34m+\u001b[0m \u001b[0minfo\u001b[0m\u001b[0;34m\u001b[0m\u001b[0;34m\u001b[0m\u001b[0m\n",
            "\u001b[0;31mOverflowError\u001b[0m: cannot convert float infinity to integer"
          ]
        }
      ]
    },
    {
      "cell_type": "code",
      "source": [
        "pos_cnt, neg_cnt, pos_correct, neg_correct = 0, 0, 0, 0\n",
        "for x in range(len(X_validate)):\n",
        "    \n",
        "    result = model.predict(X_validate[x].reshape(1,X_test.shape[1]),batch_size=1,verbose = 2)[0]\n",
        "   \n",
        "    if np.argmax(result) == np.argmax(Y_validate[x]):\n",
        "        if np.argmax(Y_validate[x]) == 0:\n",
        "            neg_correct += 1\n",
        "        else:\n",
        "            pos_correct += 1\n",
        "       \n",
        "    if np.argmax(Y_validate[x]) == 0:\n",
        "        neg_cnt += 1\n",
        "    else:\n",
        "        pos_cnt += 1\n",
        "\n",
        "\n",
        "\n",
        "print(\"pos_acc\", pos_correct/pos_cnt*100, \"%\")\n",
        "print(\"neg_acc\", neg_correct/neg_cnt*100, \"%\")"
      ],
      "metadata": {
        "id": "W--rGMMzZmMy"
      },
      "execution_count": null,
      "outputs": []
    },
    {
      "cell_type": "code",
      "source": [
        "#testing\n",
        "\n",
        "twt = ['fail']\n",
        "#vectorizing the tweet by the pre-fitted tokenizer instance\n",
        "twt = tokenizer.texts_to_sequences(twt)\n",
        "#padding the tweet to have exactly the same shape as `embedding_2` input\n",
        "twt = pad_sequences(twt, maxlen=61, dtype='int32', value=0)\n",
        "print(twt)\n",
        "sentiment = model.predict(twt,batch_size=1,verbose = 2)[0]\n",
        "\n",
        "print(str(y_classes) + \"S\")\n",
        "print(str(sentiment) + \"Sent\")\n",
        "if(np.argmax(sentiment) == 0):\n",
        "    print(\"negative\")\n",
        "elif (np.argmax(sentiment) == 1):\n",
        "    print(\"neutral\")\n",
        "elif (np.argmax(sentiment) == 2):\n",
        "    print(\"positive\")"
      ],
      "metadata": {
        "colab": {
          "base_uri": "https://localhost:8080/",
          "height": 322
        },
        "id": "d0ENXdfoZm2S",
        "outputId": "a8778329-3aaa-46b9-82cd-b2b26d3e08b4"
      },
      "execution_count": null,
      "outputs": [
        {
          "output_type": "stream",
          "name": "stdout",
          "text": [
            "[[  0   0   0   0   0   0   0   0   0   0   0   0   0   0   0   0   0   0\n",
            "    0   0   0   0   0   0   0   0   0   0   0   0   0   0   0   0   0   0\n",
            "    0   0   0   0   0   0   0   0   0   0   0   0   0   0   0   0   0   0\n",
            "    0   0   0   0   0   0 394]]\n",
            "1/1 - 0s - 61ms/epoch - 61ms/step\n"
          ]
        },
        {
          "output_type": "error",
          "ename": "NameError",
          "evalue": "ignored",
          "traceback": [
            "\u001b[0;31m---------------------------------------------------------------------------\u001b[0m",
            "\u001b[0;31mNameError\u001b[0m                                 Traceback (most recent call last)",
            "\u001b[0;32m<ipython-input-51-6128dcd68077>\u001b[0m in \u001b[0;36m<module>\u001b[0;34m\u001b[0m\n\u001b[1;32m      6\u001b[0m \u001b[0mprint\u001b[0m\u001b[0;34m(\u001b[0m\u001b[0mtwt\u001b[0m\u001b[0;34m)\u001b[0m\u001b[0;34m\u001b[0m\u001b[0;34m\u001b[0m\u001b[0m\n\u001b[1;32m      7\u001b[0m \u001b[0msentiment\u001b[0m \u001b[0;34m=\u001b[0m \u001b[0mmodel\u001b[0m\u001b[0;34m.\u001b[0m\u001b[0mpredict\u001b[0m\u001b[0;34m(\u001b[0m\u001b[0mtwt\u001b[0m\u001b[0;34m,\u001b[0m\u001b[0mbatch_size\u001b[0m\u001b[0;34m=\u001b[0m\u001b[0;36m1\u001b[0m\u001b[0;34m,\u001b[0m\u001b[0mverbose\u001b[0m \u001b[0;34m=\u001b[0m \u001b[0;36m2\u001b[0m\u001b[0;34m)\u001b[0m\u001b[0;34m[\u001b[0m\u001b[0;36m0\u001b[0m\u001b[0;34m]\u001b[0m\u001b[0;34m\u001b[0m\u001b[0;34m\u001b[0m\u001b[0m\n\u001b[0;32m----> 8\u001b[0;31m \u001b[0my_classes\u001b[0m \u001b[0;34m=\u001b[0m \u001b[0mkeras\u001b[0m\u001b[0;34m.\u001b[0m\u001b[0mnp_utils\u001b[0m\u001b[0;34m.\u001b[0m\u001b[0mprobas_to_classes\u001b[0m\u001b[0;34m(\u001b[0m\u001b[0msentiment\u001b[0m\u001b[0;34m)\u001b[0m\u001b[0;34m\u001b[0m\u001b[0;34m\u001b[0m\u001b[0m\n\u001b[0m\u001b[1;32m      9\u001b[0m \u001b[0;34m\u001b[0m\u001b[0m\n\u001b[1;32m     10\u001b[0m \u001b[0mprint\u001b[0m\u001b[0;34m(\u001b[0m\u001b[0mstr\u001b[0m\u001b[0;34m(\u001b[0m\u001b[0my_classes\u001b[0m\u001b[0;34m)\u001b[0m \u001b[0;34m+\u001b[0m \u001b[0;34m\"S\"\u001b[0m\u001b[0;34m)\u001b[0m\u001b[0;34m\u001b[0m\u001b[0;34m\u001b[0m\u001b[0m\n",
            "\u001b[0;31mNameError\u001b[0m: name 'keras' is not defined"
          ]
        }
      ]
    },
    {
      "cell_type": "code",
      "source": [
        "from csv import DictReader\n",
        "sentiment11 = []\n",
        "text11 = []\n",
        "prediction11 = []\n",
        "# iterate over each line as a ordered dictionary and print only few column by column name\n",
        "with open('/content/documentfile.csv', 'r', encoding='utf-8-sig') as read_obj:\n",
        "    csv_dict_reader = DictReader(read_obj)\n",
        "    for row in csv_dict_reader:\n",
        "      #twt = [row['review']]\n",
        "      #twt= [\"Encouraged by the positive comments about this film on here I was looking forward to watching this film. Bad mistake. I've seen 950+ films and this is truly one of the worst of them - it's awful in almost every way: editing, pacing, storyline, 'acting,' soundtrack (the film's only song - a lame country tune - is played no less than four times). The film looks cheap and nasty and is boring in the extreme. Rarely have I been so happy to see the end credits of a film. <br /><br />The only thing that prevents me giving this a 1-score is Harvey Keitel - while this is far from his best performance he at least seems to be making a bit of an effort. One for Keitel obsessives only.\"]\n",
        "      #twt = [str(row['Text']).replace(\"'\",\"\")]\n",
        "      #twt = [ \"@VirginAmerica it's really aggressive to blast obnoxious entertainment in your guests' faces &amp; they have little recourse\"]\n",
        "      twt = [row[\"text\"]]\n",
        "      print(csv_dict_reader.fieldnames[0])\n",
        "      #vectorizing the tweet by the pre-fitted tokenizer instance\n",
        "      lengthoftwt = len(twt[0])\n",
        "      print(lengthoftwt)\n",
        "      #str(row['review']).replace(\"'\",\"\")\n",
        "      twt = tokenizer.texts_to_sequences(twt)\n",
        "      #padding the tweet to have exactly the same shape as `embedding_2` input\n",
        "      twt = pad_sequences(twt, maxlen=47, dtype='int32', value=0)\n",
        "\n",
        "      sentiment = model.predict(twt,batch_size=1,verbose = 2)[0]\n",
        "      print(str(sentiment) + \"sent\")\n",
        "      print(np.argmax(sentiment))\n",
        "\n",
        "      sentiment11.append(row[\"Average Sentiment Label\"])\n",
        "      text11.append(row[\"text\"])\n",
        "\n",
        "      if(np.argmax(sentiment) == 0):\n",
        "          print(\"negative\")\n",
        "          prediction11.append(\"negative\")\n",
        "      elif (np.argmax(sentiment) == 1):\n",
        "          print(\"neutral\")\n",
        "          prediction11.append(\"neutral\")\n",
        "      elif (np.argmax(sentiment) == 2):\n",
        "          print(\"positive\")\n",
        "          prediction11.append(\"positive\")\n"
      ],
      "metadata": {
        "colab": {
          "base_uri": "https://localhost:8080/"
        },
        "id": "YsaJhd2HPk-I",
        "outputId": "544bceb0-c7f7-4613-956b-3dbd08d5875f"
      },
      "execution_count": null,
      "outputs": [
        {
          "output_type": "stream",
          "name": "stdout",
          "text": [
            "\n",
            "1524\n",
            "1/1 - 0s - 36ms/epoch - 36ms/step\n",
            "[0.9962565  0.00374348]sent\n",
            "0\n",
            "negative\n",
            "\n",
            "3807\n",
            "1/1 - 0s - 34ms/epoch - 34ms/step\n",
            "[9.9980766e-01 1.9242612e-04]sent\n",
            "0\n",
            "negative\n",
            "\n",
            "3470\n",
            "1/1 - 0s - 40ms/epoch - 40ms/step\n",
            "[0.4601984 0.5398016]sent\n",
            "1\n",
            "neutral\n",
            "\n",
            "1020\n",
            "1/1 - 0s - 34ms/epoch - 34ms/step\n",
            "[9.9963462e-01 3.6530866e-04]sent\n",
            "0\n",
            "negative\n",
            "\n",
            "1902\n",
            "1/1 - 0s - 34ms/epoch - 34ms/step\n",
            "[9.9999428e-01 5.6891204e-06]sent\n",
            "0\n",
            "negative\n",
            "\n",
            "876\n",
            "1/1 - 0s - 34ms/epoch - 34ms/step\n",
            "[0.14602843 0.8539716 ]sent\n",
            "1\n",
            "neutral\n",
            "\n",
            "950\n",
            "1/1 - 0s - 45ms/epoch - 45ms/step\n",
            "[0.33506224 0.6649378 ]sent\n",
            "1\n",
            "neutral\n",
            "\n",
            "2280\n",
            "1/1 - 0s - 36ms/epoch - 36ms/step\n",
            "[0.00575174 0.9942483 ]sent\n",
            "1\n",
            "neutral\n",
            "\n",
            "5795\n",
            "1/1 - 0s - 33ms/epoch - 33ms/step\n",
            "[0.9941036  0.00589646]sent\n",
            "0\n",
            "negative\n",
            "\n",
            "2300\n",
            "1/1 - 0s - 33ms/epoch - 33ms/step\n",
            "[0.02337661 0.9766234 ]sent\n",
            "1\n",
            "neutral\n"
          ]
        }
      ]
    },
    {
      "cell_type": "code",
      "source": [],
      "metadata": {
        "id": "x4EoO1YlSVaA"
      },
      "execution_count": null,
      "outputs": []
    },
    {
      "cell_type": "code",
      "source": [
        "import pandas as pd                     \n",
        "\n",
        "\n",
        "col_list = [\"text\",\"Average Sentiment Label\",\"predicted sentiment\"]\n",
        "df = pd.read_csv(\"/content/documentfile.csv\", names=col_list, sep=',',  encoding='utf-8-sig')\n",
        "\n",
        "\n",
        "  #Create a dictionary with translated words\n",
        "translatedCSV = { \"text\":[], \"Average Sentiment Label\":[], \"predicted sentiment\":[] } #Change the column names accordingly to your coumns names\n",
        " \n",
        "ind = 0\n",
        "count = 0\n",
        "    #Translated word one by one from the CSV file and save them to the dictionary\n",
        "for index, row in df.iterrows():\n",
        "    print(count)\n",
        "    translatedCSV[\"text\"].append(text11[count])\n",
        "    translatedCSV[\"Average Sentiment Label\"].append(sentiment11[count])\n",
        "    translatedCSV[\"predicted sentiment\"].append(prediction11[count])\n",
        "    count = count + 1\n",
        "    ind = ind + 1\n",
        "\n",
        "    #Create a Dataframe from Dictionary \n",
        "    #Save the DataFrame to a CSV file\n",
        "    if(ind == 10):    \n",
        "      break\n",
        "\n",
        "\n",
        "df = pd.DataFrame(data=translatedCSV)\n",
        "df.to_csv(r'/content/sample_data/results.csv')\n",
        "\n",
        "print(df)\n",
        "\n",
        "\n",
        "df.to_csv(\"results.csv\", encoding='utf-8-sig')\n",
        "\n"
      ],
      "metadata": {
        "colab": {
          "base_uri": "https://localhost:8080/"
        },
        "id": "q5XIaDYbRsIQ",
        "outputId": "e085cecf-6ea6-4757-81ed-c71d45b3f38c"
      },
      "execution_count": null,
      "outputs": [
        {
          "output_type": "stream",
          "name": "stdout",
          "text": [
            "0\n",
            "1\n",
            "2\n",
            "3\n",
            "4\n",
            "5\n",
            "6\n",
            "7\n",
            "8\n",
            "9\n",
            "                                                text Average Sentiment Label  \\\n",
            "0  Il-katavru ta’ Lassana Cisse, li nqatel f’atta...                negative   \n",
            "1  Għal Maria Goncharova, ta’ 93 sena li ssalva m...                negative   \n",
            "2  Ghislaine Maxwell ġiet ikkundannata 20 sena ħa...                negative   \n",
            "3  Mill-inqas 49 priġunier inqatlu u għexieren oħ...                negative   \n",
            "4  L-attakk b’missili Russa nhar it-Tnejn laqat m...                negative   \n",
            "5  Romelu Lukaku qal li kien “ferħan ħafna” li re...                positive   \n",
            "6  Studenti li jattendu l-Iskola Primarja tal-Goz...                positive   \n",
            "7  Il-koronavirus ġiegħel lill-Cachias ipoġġu l-i...                positive   \n",
            "8  Birthdays, gradwazzjonijiet, tiġijiet, u t-twe...                positive   \n",
            "9  Studenti tal-inġinerija li jtemmu l-istudji ta...                positive   \n",
            "\n",
            "  predicted sentiment  \n",
            "0            negative  \n",
            "1            negative  \n",
            "2             neutral  \n",
            "3            negative  \n",
            "4            negative  \n",
            "5             neutral  \n",
            "6             neutral  \n",
            "7             neutral  \n",
            "8            negative  \n",
            "9             neutral  \n"
          ]
        }
      ]
    }
  ]
}
