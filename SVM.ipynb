{
  "cells": [
    {
      "cell_type": "code",
      "execution_count": null,
      "metadata": {
        "colab": {
          "base_uri": "https://localhost:8080/",
          "height": 661
        },
        "id": "oXWRHdeJJpQt",
        "outputId": "e448681c-dab1-4ed5-cbed-5a14c6316b3b"
      },
      "outputs": [
        {
          "output_type": "stream",
          "name": "stdout",
          "text": [
            "Looking in indexes: https://pypi.org/simple, https://us-python.pkg.dev/colab-wheels/public/simple/\n",
            "Requirement already satisfied: googletrans==4.0.0-rc1 in /usr/local/lib/python3.7/dist-packages (4.0.0rc1)\n",
            "Requirement already satisfied: httpx==0.13.3 in /usr/local/lib/python3.7/dist-packages (from googletrans==4.0.0-rc1) (0.13.3)\n",
            "Requirement already satisfied: certifi in /usr/local/lib/python3.7/dist-packages (from httpx==0.13.3->googletrans==4.0.0-rc1) (2022.6.15)\n",
            "Requirement already satisfied: idna==2.* in /usr/local/lib/python3.7/dist-packages (from httpx==0.13.3->googletrans==4.0.0-rc1) (2.10)\n",
            "Requirement already satisfied: httpcore==0.9.* in /usr/local/lib/python3.7/dist-packages (from httpx==0.13.3->googletrans==4.0.0-rc1) (0.9.1)\n",
            "Requirement already satisfied: sniffio in /usr/local/lib/python3.7/dist-packages (from httpx==0.13.3->googletrans==4.0.0-rc1) (1.2.0)\n",
            "Requirement already satisfied: rfc3986<2,>=1.3 in /usr/local/lib/python3.7/dist-packages (from httpx==0.13.3->googletrans==4.0.0-rc1) (1.5.0)\n",
            "Requirement already satisfied: chardet==3.* in /usr/local/lib/python3.7/dist-packages (from httpx==0.13.3->googletrans==4.0.0-rc1) (3.0.4)\n",
            "Requirement already satisfied: hstspreload in /usr/local/lib/python3.7/dist-packages (from httpx==0.13.3->googletrans==4.0.0-rc1) (2022.8.1)\n",
            "Requirement already satisfied: h11<0.10,>=0.8 in /usr/local/lib/python3.7/dist-packages (from httpcore==0.9.*->httpx==0.13.3->googletrans==4.0.0-rc1) (0.9.0)\n",
            "Requirement already satisfied: h2==3.* in /usr/local/lib/python3.7/dist-packages (from httpcore==0.9.*->httpx==0.13.3->googletrans==4.0.0-rc1) (3.2.0)\n",
            "Requirement already satisfied: hpack<4,>=3.0 in /usr/local/lib/python3.7/dist-packages (from h2==3.*->httpcore==0.9.*->httpx==0.13.3->googletrans==4.0.0-rc1) (3.0.0)\n",
            "Requirement already satisfied: hyperframe<6,>=5.2.0 in /usr/local/lib/python3.7/dist-packages (from h2==3.*->httpcore==0.9.*->httpx==0.13.3->googletrans==4.0.0-rc1) (5.2.0)\n"
          ]
        },
        {
          "output_type": "error",
          "ename": "FileNotFoundError",
          "evalue": "ignored",
          "traceback": [
            "\u001b[0;31m---------------------------------------------------------------------------\u001b[0m",
            "\u001b[0;31mFileNotFoundError\u001b[0m                         Traceback (most recent call last)",
            "\u001b[0;32m<ipython-input-22-fee23fcd58b2>\u001b[0m in \u001b[0;36m<module>\u001b[0;34m\u001b[0m\n\u001b[1;32m      7\u001b[0m \u001b[0;34m\u001b[0m\u001b[0m\n\u001b[1;32m      8\u001b[0m \u001b[0mcol_list\u001b[0m \u001b[0;34m=\u001b[0m \u001b[0;34m[\u001b[0m\u001b[0;34m\"Text\"\u001b[0m\u001b[0;34m,\u001b[0m\u001b[0;34m\"Actual Sentiment\"\u001b[0m\u001b[0;34m]\u001b[0m\u001b[0;34m\u001b[0m\u001b[0;34m\u001b[0m\u001b[0m\n\u001b[0;32m----> 9\u001b[0;31m \u001b[0mdf\u001b[0m \u001b[0;34m=\u001b[0m \u001b[0mpd\u001b[0m\u001b[0;34m.\u001b[0m\u001b[0mread_csv\u001b[0m\u001b[0;34m(\u001b[0m\u001b[0;34m\"/content/Documentlevel.csv\"\u001b[0m\u001b[0;34m,\u001b[0m \u001b[0musecols\u001b[0m\u001b[0;34m=\u001b[0m\u001b[0mcol_list\u001b[0m\u001b[0;34m,\u001b[0m  \u001b[0mencoding\u001b[0m\u001b[0;34m=\u001b[0m\u001b[0;34m'utf-8'\u001b[0m\u001b[0;34m)\u001b[0m\u001b[0;34m\u001b[0m\u001b[0;34m\u001b[0m\u001b[0m\n\u001b[0m\u001b[1;32m     10\u001b[0m \u001b[0;34m\u001b[0m\u001b[0m\n\u001b[1;32m     11\u001b[0m \u001b[0mdata_top\u001b[0m \u001b[0;34m=\u001b[0m \u001b[0mdf\u001b[0m\u001b[0;34m.\u001b[0m\u001b[0mhead\u001b[0m\u001b[0;34m(\u001b[0m\u001b[0;34m)\u001b[0m\u001b[0;34m\u001b[0m\u001b[0;34m\u001b[0m\u001b[0m\n",
            "\u001b[0;32m/usr/local/lib/python3.7/dist-packages/pandas/util/_decorators.py\u001b[0m in \u001b[0;36mwrapper\u001b[0;34m(*args, **kwargs)\u001b[0m\n\u001b[1;32m    309\u001b[0m                     \u001b[0mstacklevel\u001b[0m\u001b[0;34m=\u001b[0m\u001b[0mstacklevel\u001b[0m\u001b[0;34m,\u001b[0m\u001b[0;34m\u001b[0m\u001b[0;34m\u001b[0m\u001b[0m\n\u001b[1;32m    310\u001b[0m                 )\n\u001b[0;32m--> 311\u001b[0;31m             \u001b[0;32mreturn\u001b[0m \u001b[0mfunc\u001b[0m\u001b[0;34m(\u001b[0m\u001b[0;34m*\u001b[0m\u001b[0margs\u001b[0m\u001b[0;34m,\u001b[0m \u001b[0;34m**\u001b[0m\u001b[0mkwargs\u001b[0m\u001b[0;34m)\u001b[0m\u001b[0;34m\u001b[0m\u001b[0;34m\u001b[0m\u001b[0m\n\u001b[0m\u001b[1;32m    312\u001b[0m \u001b[0;34m\u001b[0m\u001b[0m\n\u001b[1;32m    313\u001b[0m         \u001b[0;32mreturn\u001b[0m \u001b[0mwrapper\u001b[0m\u001b[0;34m\u001b[0m\u001b[0;34m\u001b[0m\u001b[0m\n",
            "\u001b[0;32m/usr/local/lib/python3.7/dist-packages/pandas/io/parsers/readers.py\u001b[0m in \u001b[0;36mread_csv\u001b[0;34m(filepath_or_buffer, sep, delimiter, header, names, index_col, usecols, squeeze, prefix, mangle_dupe_cols, dtype, engine, converters, true_values, false_values, skipinitialspace, skiprows, skipfooter, nrows, na_values, keep_default_na, na_filter, verbose, skip_blank_lines, parse_dates, infer_datetime_format, keep_date_col, date_parser, dayfirst, cache_dates, iterator, chunksize, compression, thousands, decimal, lineterminator, quotechar, quoting, doublequote, escapechar, comment, encoding, encoding_errors, dialect, error_bad_lines, warn_bad_lines, on_bad_lines, delim_whitespace, low_memory, memory_map, float_precision, storage_options)\u001b[0m\n\u001b[1;32m    584\u001b[0m     \u001b[0mkwds\u001b[0m\u001b[0;34m.\u001b[0m\u001b[0mupdate\u001b[0m\u001b[0;34m(\u001b[0m\u001b[0mkwds_defaults\u001b[0m\u001b[0;34m)\u001b[0m\u001b[0;34m\u001b[0m\u001b[0;34m\u001b[0m\u001b[0m\n\u001b[1;32m    585\u001b[0m \u001b[0;34m\u001b[0m\u001b[0m\n\u001b[0;32m--> 586\u001b[0;31m     \u001b[0;32mreturn\u001b[0m \u001b[0m_read\u001b[0m\u001b[0;34m(\u001b[0m\u001b[0mfilepath_or_buffer\u001b[0m\u001b[0;34m,\u001b[0m \u001b[0mkwds\u001b[0m\u001b[0;34m)\u001b[0m\u001b[0;34m\u001b[0m\u001b[0;34m\u001b[0m\u001b[0m\n\u001b[0m\u001b[1;32m    587\u001b[0m \u001b[0;34m\u001b[0m\u001b[0m\n\u001b[1;32m    588\u001b[0m \u001b[0;34m\u001b[0m\u001b[0m\n",
            "\u001b[0;32m/usr/local/lib/python3.7/dist-packages/pandas/io/parsers/readers.py\u001b[0m in \u001b[0;36m_read\u001b[0;34m(filepath_or_buffer, kwds)\u001b[0m\n\u001b[1;32m    480\u001b[0m \u001b[0;34m\u001b[0m\u001b[0m\n\u001b[1;32m    481\u001b[0m     \u001b[0;31m# Create the parser.\u001b[0m\u001b[0;34m\u001b[0m\u001b[0;34m\u001b[0m\u001b[0;34m\u001b[0m\u001b[0m\n\u001b[0;32m--> 482\u001b[0;31m     \u001b[0mparser\u001b[0m \u001b[0;34m=\u001b[0m \u001b[0mTextFileReader\u001b[0m\u001b[0;34m(\u001b[0m\u001b[0mfilepath_or_buffer\u001b[0m\u001b[0;34m,\u001b[0m \u001b[0;34m**\u001b[0m\u001b[0mkwds\u001b[0m\u001b[0;34m)\u001b[0m\u001b[0;34m\u001b[0m\u001b[0;34m\u001b[0m\u001b[0m\n\u001b[0m\u001b[1;32m    483\u001b[0m \u001b[0;34m\u001b[0m\u001b[0m\n\u001b[1;32m    484\u001b[0m     \u001b[0;32mif\u001b[0m \u001b[0mchunksize\u001b[0m \u001b[0;32mor\u001b[0m \u001b[0miterator\u001b[0m\u001b[0;34m:\u001b[0m\u001b[0;34m\u001b[0m\u001b[0;34m\u001b[0m\u001b[0m\n",
            "\u001b[0;32m/usr/local/lib/python3.7/dist-packages/pandas/io/parsers/readers.py\u001b[0m in \u001b[0;36m__init__\u001b[0;34m(self, f, engine, **kwds)\u001b[0m\n\u001b[1;32m    809\u001b[0m             \u001b[0mself\u001b[0m\u001b[0;34m.\u001b[0m\u001b[0moptions\u001b[0m\u001b[0;34m[\u001b[0m\u001b[0;34m\"has_index_names\"\u001b[0m\u001b[0;34m]\u001b[0m \u001b[0;34m=\u001b[0m \u001b[0mkwds\u001b[0m\u001b[0;34m[\u001b[0m\u001b[0;34m\"has_index_names\"\u001b[0m\u001b[0;34m]\u001b[0m\u001b[0;34m\u001b[0m\u001b[0;34m\u001b[0m\u001b[0m\n\u001b[1;32m    810\u001b[0m \u001b[0;34m\u001b[0m\u001b[0m\n\u001b[0;32m--> 811\u001b[0;31m         \u001b[0mself\u001b[0m\u001b[0;34m.\u001b[0m\u001b[0m_engine\u001b[0m \u001b[0;34m=\u001b[0m \u001b[0mself\u001b[0m\u001b[0;34m.\u001b[0m\u001b[0m_make_engine\u001b[0m\u001b[0;34m(\u001b[0m\u001b[0mself\u001b[0m\u001b[0;34m.\u001b[0m\u001b[0mengine\u001b[0m\u001b[0;34m)\u001b[0m\u001b[0;34m\u001b[0m\u001b[0;34m\u001b[0m\u001b[0m\n\u001b[0m\u001b[1;32m    812\u001b[0m \u001b[0;34m\u001b[0m\u001b[0m\n\u001b[1;32m    813\u001b[0m     \u001b[0;32mdef\u001b[0m \u001b[0mclose\u001b[0m\u001b[0;34m(\u001b[0m\u001b[0mself\u001b[0m\u001b[0;34m)\u001b[0m\u001b[0;34m:\u001b[0m\u001b[0;34m\u001b[0m\u001b[0;34m\u001b[0m\u001b[0m\n",
            "\u001b[0;32m/usr/local/lib/python3.7/dist-packages/pandas/io/parsers/readers.py\u001b[0m in \u001b[0;36m_make_engine\u001b[0;34m(self, engine)\u001b[0m\n\u001b[1;32m   1038\u001b[0m             )\n\u001b[1;32m   1039\u001b[0m         \u001b[0;31m# error: Too many arguments for \"ParserBase\"\u001b[0m\u001b[0;34m\u001b[0m\u001b[0;34m\u001b[0m\u001b[0;34m\u001b[0m\u001b[0m\n\u001b[0;32m-> 1040\u001b[0;31m         \u001b[0;32mreturn\u001b[0m \u001b[0mmapping\u001b[0m\u001b[0;34m[\u001b[0m\u001b[0mengine\u001b[0m\u001b[0;34m]\u001b[0m\u001b[0;34m(\u001b[0m\u001b[0mself\u001b[0m\u001b[0;34m.\u001b[0m\u001b[0mf\u001b[0m\u001b[0;34m,\u001b[0m \u001b[0;34m**\u001b[0m\u001b[0mself\u001b[0m\u001b[0;34m.\u001b[0m\u001b[0moptions\u001b[0m\u001b[0;34m)\u001b[0m  \u001b[0;31m# type: ignore[call-arg]\u001b[0m\u001b[0;34m\u001b[0m\u001b[0;34m\u001b[0m\u001b[0m\n\u001b[0m\u001b[1;32m   1041\u001b[0m \u001b[0;34m\u001b[0m\u001b[0m\n\u001b[1;32m   1042\u001b[0m     \u001b[0;32mdef\u001b[0m \u001b[0m_failover_to_python\u001b[0m\u001b[0;34m(\u001b[0m\u001b[0mself\u001b[0m\u001b[0;34m)\u001b[0m\u001b[0;34m:\u001b[0m\u001b[0;34m\u001b[0m\u001b[0;34m\u001b[0m\u001b[0m\n",
            "\u001b[0;32m/usr/local/lib/python3.7/dist-packages/pandas/io/parsers/c_parser_wrapper.py\u001b[0m in \u001b[0;36m__init__\u001b[0;34m(self, src, **kwds)\u001b[0m\n\u001b[1;32m     49\u001b[0m \u001b[0;34m\u001b[0m\u001b[0m\n\u001b[1;32m     50\u001b[0m         \u001b[0;31m# open handles\u001b[0m\u001b[0;34m\u001b[0m\u001b[0;34m\u001b[0m\u001b[0;34m\u001b[0m\u001b[0m\n\u001b[0;32m---> 51\u001b[0;31m         \u001b[0mself\u001b[0m\u001b[0;34m.\u001b[0m\u001b[0m_open_handles\u001b[0m\u001b[0;34m(\u001b[0m\u001b[0msrc\u001b[0m\u001b[0;34m,\u001b[0m \u001b[0mkwds\u001b[0m\u001b[0;34m)\u001b[0m\u001b[0;34m\u001b[0m\u001b[0;34m\u001b[0m\u001b[0m\n\u001b[0m\u001b[1;32m     52\u001b[0m         \u001b[0;32massert\u001b[0m \u001b[0mself\u001b[0m\u001b[0;34m.\u001b[0m\u001b[0mhandles\u001b[0m \u001b[0;32mis\u001b[0m \u001b[0;32mnot\u001b[0m \u001b[0;32mNone\u001b[0m\u001b[0;34m\u001b[0m\u001b[0;34m\u001b[0m\u001b[0m\n\u001b[1;32m     53\u001b[0m \u001b[0;34m\u001b[0m\u001b[0m\n",
            "\u001b[0;32m/usr/local/lib/python3.7/dist-packages/pandas/io/parsers/base_parser.py\u001b[0m in \u001b[0;36m_open_handles\u001b[0;34m(self, src, kwds)\u001b[0m\n\u001b[1;32m    227\u001b[0m             \u001b[0mmemory_map\u001b[0m\u001b[0;34m=\u001b[0m\u001b[0mkwds\u001b[0m\u001b[0;34m.\u001b[0m\u001b[0mget\u001b[0m\u001b[0;34m(\u001b[0m\u001b[0;34m\"memory_map\"\u001b[0m\u001b[0;34m,\u001b[0m \u001b[0;32mFalse\u001b[0m\u001b[0;34m)\u001b[0m\u001b[0;34m,\u001b[0m\u001b[0;34m\u001b[0m\u001b[0;34m\u001b[0m\u001b[0m\n\u001b[1;32m    228\u001b[0m             \u001b[0mstorage_options\u001b[0m\u001b[0;34m=\u001b[0m\u001b[0mkwds\u001b[0m\u001b[0;34m.\u001b[0m\u001b[0mget\u001b[0m\u001b[0;34m(\u001b[0m\u001b[0;34m\"storage_options\"\u001b[0m\u001b[0;34m,\u001b[0m \u001b[0;32mNone\u001b[0m\u001b[0;34m)\u001b[0m\u001b[0;34m,\u001b[0m\u001b[0;34m\u001b[0m\u001b[0;34m\u001b[0m\u001b[0m\n\u001b[0;32m--> 229\u001b[0;31m             \u001b[0merrors\u001b[0m\u001b[0;34m=\u001b[0m\u001b[0mkwds\u001b[0m\u001b[0;34m.\u001b[0m\u001b[0mget\u001b[0m\u001b[0;34m(\u001b[0m\u001b[0;34m\"encoding_errors\"\u001b[0m\u001b[0;34m,\u001b[0m \u001b[0;34m\"strict\"\u001b[0m\u001b[0;34m)\u001b[0m\u001b[0;34m,\u001b[0m\u001b[0;34m\u001b[0m\u001b[0;34m\u001b[0m\u001b[0m\n\u001b[0m\u001b[1;32m    230\u001b[0m         )\n\u001b[1;32m    231\u001b[0m \u001b[0;34m\u001b[0m\u001b[0m\n",
            "\u001b[0;32m/usr/local/lib/python3.7/dist-packages/pandas/io/common.py\u001b[0m in \u001b[0;36mget_handle\u001b[0;34m(path_or_buf, mode, encoding, compression, memory_map, is_text, errors, storage_options)\u001b[0m\n\u001b[1;32m    705\u001b[0m                 \u001b[0mencoding\u001b[0m\u001b[0;34m=\u001b[0m\u001b[0mioargs\u001b[0m\u001b[0;34m.\u001b[0m\u001b[0mencoding\u001b[0m\u001b[0;34m,\u001b[0m\u001b[0;34m\u001b[0m\u001b[0;34m\u001b[0m\u001b[0m\n\u001b[1;32m    706\u001b[0m                 \u001b[0merrors\u001b[0m\u001b[0;34m=\u001b[0m\u001b[0merrors\u001b[0m\u001b[0;34m,\u001b[0m\u001b[0;34m\u001b[0m\u001b[0;34m\u001b[0m\u001b[0m\n\u001b[0;32m--> 707\u001b[0;31m                 \u001b[0mnewline\u001b[0m\u001b[0;34m=\u001b[0m\u001b[0;34m\"\"\u001b[0m\u001b[0;34m,\u001b[0m\u001b[0;34m\u001b[0m\u001b[0;34m\u001b[0m\u001b[0m\n\u001b[0m\u001b[1;32m    708\u001b[0m             )\n\u001b[1;32m    709\u001b[0m         \u001b[0;32melse\u001b[0m\u001b[0;34m:\u001b[0m\u001b[0;34m\u001b[0m\u001b[0;34m\u001b[0m\u001b[0m\n",
            "\u001b[0;31mFileNotFoundError\u001b[0m: [Errno 2] No such file or directory: '/content/Documentlevel.csv'"
          ]
        }
      ],
      "source": [
        "!pip install googletrans==4.0.0-rc1\n",
        "\n",
        "from googletrans import Translator\n",
        "import pandas as pd                     \n",
        "\n",
        "translator = Translator()\n",
        "\n",
        "col_list = [\"Text\",\"Actual Sentiment\"]\n",
        "df = pd.read_csv(\"/content/Documentlevel.csv\", usecols=col_list,  encoding='utf-8')\n",
        "\n",
        "data_top = df.head() \n",
        "    \n",
        "# display \n",
        "print(list(data_top.columns)) \n",
        "\n",
        "  #Create a dictionary with translated words\n",
        "translatedCSV = { \"Text\":[],  \"Actual Sentiment\":[]} #Change the column names accordingly to your coumns names\n",
        " \n",
        "ind = 0\n",
        "    #Translated word one by one from the CSV file and save them to the dictionary\n",
        "for index, row in df.iterrows():\n",
        "    translation = translator.translate(row[\"Text\"], dest='en')\n",
        "    translatedCSV[\"Text\"].append(translation.text)\n",
        "    translatedCSV[\"Actual Sentiment\"].append(row[\"Actual Sentiment\"])\n",
        "    print(\"index\" + str(index))\n",
        "    ind = ind + 1\n",
        "\n",
        "    print(translation.text)\n",
        "    #Create a Dataframe from Dictionary \n",
        "    #Save the DataFrame to a CSV file\n",
        "    if(ind == 13):\n",
        "      break\n",
        "\n",
        "\n",
        "df = pd.DataFrame(data=translatedCSV)\n",
        "df.to_csv(r'/content/sample_data/dawson.csv')\n",
        "\n",
        "print(df)\n",
        "\n",
        "\n",
        "df.to_csv(\"Document.csv\", encoding='utf-8-sig')\n",
        "    "
      ]
    },
    {
      "cell_type": "code",
      "execution_count": null,
      "metadata": {
        "id": "iHyBpvplbBtx"
      },
      "outputs": [],
      "source": [
        "!pip install googletrans==4.0.0-rc1\n",
        "import time\n",
        "from googletrans import Translator\n",
        "import pandas as pd                     \n",
        "\n",
        "translator = Translator()\n",
        "\n",
        "col_list = [\"text\",\"airline_sentiment\"]\n",
        "df = pd.read_csv(\"/content/3rd5k.csv\", usecols=col_list)\n",
        "\n",
        "\n",
        "\n",
        "  #Create a dictionary with translated words\n",
        "translatedCSV = { \"text\":[], \"airline_sentiment\":[]} #Change the column names accordingly to your coumns names\n",
        " \n",
        "ind = 0\n",
        "    #Translated word one by one from the CSV file and save them to the dictionary\n",
        "for index, row in df.iterrows():\n",
        "  if(isinstance(row[\"text\"], str)):\n",
        "    #time.sleep(1) \n",
        "    translation = translator.translate(row[\"text\"], dest='mt')\n",
        "    translatedCSV[\"text\"].append(translation.text)\n",
        "    translatedCSV[\"airline_sentiment\"].append(row[\"airline_sentiment\"])\n",
        "\n",
        "    ind = ind + 1\n",
        "\n",
        "    print(translation.text)\n",
        "    #Create a Dataframe from Dictionary \n",
        "    #Save the DataFrame to a CSV file\n",
        "    if(ind == 100):\n",
        "     break\n",
        "\n",
        "\n",
        "df = pd.DataFrame(data=translatedCSV)\n",
        "df.to_csv(r'/content/sample_data/TranslateedItalianToEnglish2.csv')\n",
        "\n",
        "print(df)\n",
        "\n",
        "\n",
        "\n",
        "df.to_csv(\"TranslateedEnglishToMaltese4batch.csv\")\n",
        "    "
      ]
    },
    {
      "cell_type": "code",
      "execution_count": null,
      "metadata": {
        "id": "Epsvkg_lbEDR"
      },
      "outputs": [],
      "source": [
        "from google.colab import files\n",
        "files.download('English.csv')"
      ]
    },
    {
      "cell_type": "code",
      "execution_count": null,
      "metadata": {
        "id": "rCUMRsNLG8qo"
      },
      "outputs": [],
      "source": [
        "%matplotlib inline\n",
        "%config InlineBackend.figure_format = 'retina'\n",
        "\n",
        "import numpy as np\n",
        "import pandas as pd\n",
        "from bs4 import BeautifulSoup\n",
        "import matplotlib.pyplot as plt\n",
        "import seaborn as sns\n",
        "\n",
        "import nltk\n",
        "from nltk.corpus import stopwords\n",
        "from nltk.stem import SnowballStemmer\n",
        "from nltk.tokenize import TweetTokenizer\n",
        "\n",
        "from sklearn.feature_extraction.text import CountVectorizer, TfidfTransformer\n",
        "from sklearn.linear_model import LogisticRegression\n",
        "from sklearn.svm import SVC\n",
        "from sklearn.model_selection import train_test_split, StratifiedKFold, cross_val_score\n",
        "from sklearn.pipeline import make_pipeline, Pipeline\n",
        "from sklearn.model_selection import GridSearchCV\n",
        "from sklearn.metrics import make_scorer, accuracy_score, f1_score\n",
        "from sklearn.metrics import roc_curve, auc\n",
        "from sklearn.metrics import confusion_matrix, roc_auc_score, recall_score, precision_score\n"
      ]
    },
    {
      "cell_type": "code",
      "execution_count": null,
      "metadata": {
        "id": "qzeDZBg1G_bE"
      },
      "outputs": [],
      "source": [
        "data = pd.read_csv(\"combined.csv\")\n",
        "data.text=data.text.astype(str)\n"
      ]
    },
    {
      "cell_type": "code",
      "execution_count": null,
      "metadata": {
        "id": "jJ85xeicHEGL"
      },
      "outputs": [],
      "source": [
        "data_clean = data.copy()\n",
        "#data_clean = data_clean[data_clean['airline_sentiment_confidence'] > 0.65]\n",
        "#data_clean['sentiment'] = data_clean['airline_sentiment'].\\\n",
        "    #apply(lambda x: 1 if x=='negative' else 0)\n",
        "data_clean['sentiment'] = data_clean['airline_sentiment'].replace(\"negative\",1)\n",
        "data_clean['sentiment'] = data_clean['sentiment'].replace(\"positive\",0)\n",
        "data_clean['sentiment'] = data_clean['sentiment'].replace(\"neutral\",2)\n",
        "data_clean['sentiment'] = data_clean['sentiment'].replace(\"NEGATIVE\",1)\n",
        "data_clean['sentiment'] = data_clean['sentiment'].replace(\"POSITIVE\",0)\n",
        "data_clean['sentiment'] = data_clean['sentiment'].replace(\"NEUTRAL\",2)\n",
        "data_clean['sentiment'] = data_clean['sentiment'].replace(\"0\",0)\n",
        "data_clean['sentiment'] = data_clean['sentiment'].replace(\"1\",1)\n",
        "\n",
        "\n",
        "data_clean['text_clean'] = data_clean['text'].apply(lambda x: BeautifulSoup(x, \"lxml\").text)\n",
        "data_clean['text_clean'] = data_clean['text_clean'].apply(lambda x: x.lower())\n"
      ]
    },
    {
      "cell_type": "code",
      "source": [
        "for col in data_clean:\n",
        "    print(data_clean['sentiment'].unique())"
      ],
      "metadata": {
        "colab": {
          "base_uri": "https://localhost:8080/"
        },
        "id": "tG8BpfY5LUAN",
        "outputId": "305c1260-d9e8-48b5-fdc4-3c0fe7fa02a0"
      },
      "execution_count": null,
      "outputs": [
        {
          "output_type": "stream",
          "name": "stdout",
          "text": [
            "[0 1]\n",
            "[0 1]\n",
            "[0 1]\n",
            "[0 1]\n",
            "[0 1]\n"
          ]
        }
      ]
    },
    {
      "cell_type": "code",
      "source": [
        "print(data_clean['sentiment'])"
      ],
      "metadata": {
        "colab": {
          "base_uri": "https://localhost:8080/"
        },
        "id": "loXrpDo-MYfk",
        "outputId": "196991e1-0c8e-411a-ace1-ce9b0a45826b"
      },
      "execution_count": null,
      "outputs": [
        {
          "output_type": "stream",
          "name": "stdout",
          "text": [
            "0        0\n",
            "1        1\n",
            "2        1\n",
            "3        1\n",
            "4        0\n",
            "        ..\n",
            "11939    0\n",
            "11940    0\n",
            "11941    0\n",
            "11942    1\n",
            "11943    0\n",
            "Name: sentiment, Length: 11944, dtype: int64\n"
          ]
        }
      ]
    },
    {
      "cell_type": "code",
      "execution_count": null,
      "metadata": {
        "id": "QJ93K2j7p-I6"
      },
      "outputs": [],
      "source": [
        "data_clean['text_clean'] = data_clean['text_clean'].str.replace(\"where\", '')\n",
        "data_clean['text_clean'] = data_clean['text_clean'].str.replace(\"what\", '')\n",
        "data_clean['text_clean'] = data_clean['text_clean'].str.replace(\"how\", '')\n",
        "data_clean['text_clean'] = data_clean['text_clean'].str.replace(\"why\", '')\n",
        "\n",
        "data_clean['text_clean'] = data_clean['text_clean'].str.replace(\"fejn\", '')\n",
        "data_clean['text_clean'] = data_clean['text_clean'].str.replace(\"xix\", '')\n",
        "data_clean['text_clean'] = data_clean['text_clean'].str.replace(\"kif\", '')\n",
        "data_clean['text_clean'] = data_clean['text_clean'].str.replace(\"għaliex\", '')\n",
        "\n",
        "\n",
        "\n",
        "data_clean['text_clean'] = data_clean['text_clean'].str.replace(\"[0-9]\", '')\n",
        "data_clean['text_clean'].head(100)\n",
        "\n",
        "data_clean['text_clean'] = data_clean['text_clean'].str.replace('@[^\\s]+', '')\n",
        "data_clean['text_clean'].head(100)\n",
        "\n",
        "\n",
        "\n"
      ]
    },
    {
      "cell_type": "code",
      "source": [
        "data_clean['text_clean'] = data_clean['text_clean'].str.replace('@[^\\s]+', '')\n",
        "data_clean.head(100)"
      ],
      "metadata": {
        "id": "55R7cBkx5Mx-"
      },
      "execution_count": null,
      "outputs": []
    },
    {
      "cell_type": "code",
      "source": [
        "data_clean['text_clean'] = data_clean['text_clean'].str.replace(' i ', ' ')\n",
        "data_clean['text_clean'] = data_clean['text_clean'].str.replace('we', '')\n",
        "data_clean['text_clean'] = data_clean['text_clean'].str.replace('you', '')\n",
        "data_clean['text_clean'] = data_clean['text_clean'].str.replace('he', '')\n",
        "data_clean['text_clean'] = data_clean['text_clean'].str.replace('she', '')\n",
        "data_clean['text_clean'] = data_clean['text_clean'].str.replace('it', '')\n",
        "data_clean['text_clean'] = data_clean['text_clean'].str.replace('they', '')\n",
        "\n",
        "data_clean['text_clean'] = data_clean['text_clean'].str.replace('jien', '')\n",
        "data_clean['text_clean'] = data_clean['text_clean'].str.replace('jiena', '')\n",
        "data_clean['text_clean'] = data_clean['text_clean'].str.replace('int', '')\n",
        "data_clean['text_clean'] = data_clean['text_clean'].str.replace('inti', '')\n",
        "data_clean['text_clean'] = data_clean['text_clean'].str.replace('hu', '')\n",
        "data_clean['text_clean'] = data_clean['text_clean'].str.replace('hi', '')\n",
        "data_clean['text_clean'] = data_clean['text_clean'].str.replace('aħna', '')\n",
        "data_clean['text_clean'] = data_clean['text_clean'].str.replace('huma', '')\n",
        "\n",
        "data_clean.head(100)"
      ],
      "metadata": {
        "id": "tS-XXfjx4wuW"
      },
      "execution_count": null,
      "outputs": []
    },
    {
      "cell_type": "code",
      "execution_count": null,
      "metadata": {
        "id": "4VTAzDwQqBlS"
      },
      "outputs": [],
      "source": [
        "data_clean['text_clean'] = data_clean['text_clean'].str.replace(' a ', ' ')\n",
        "data_clean['text_clean'] = data_clean['text_clean'].str.replace('and', '')\n",
        "data_clean['text_clean'] = data_clean['text_clean'].str.replace('an', '')\n",
        "data_clean['text_clean'] = data_clean['text_clean'].str.replace('the', '')\n",
        "\n",
        "data_clean['text_clean'] = data_clean['text_clean'].str.replace(' u ', ' ')\n",
        "data_clean['text_clean'] = data_clean['text_clean'].str.replace('l-', '')\n",
        "data_clean['text_clean'] = data_clean['text_clean'].str.replace('xi', '')\n",
        "data_clean['text_clean'] = data_clean['text_clean'].str.replace('ftit', '')\n",
        "data_clean['text_clean'] = data_clean['text_clean'].str.replace('wieħed', '')\n",
        "data_clean['text_clean'] = data_clean['text_clean'].str.replace('waħda', '')\n",
        "\n",
        " \n",
        "\n",
        "data.head(100)"
      ]
    },
    {
      "cell_type": "code",
      "execution_count": null,
      "metadata": {
        "id": "miDhnTo-HNer"
      },
      "outputs": [],
      "source": [
        "data_clean['sentiment'] = data_clean['airline_sentiment'].apply(lambda x: 1 if x=='negative' else 0)\n"
      ]
    },
    {
      "cell_type": "code",
      "execution_count": null,
      "metadata": {
        "id": "Mgm0L_6WHPub"
      },
      "outputs": [],
      "source": [
        "data_clean = data_clean.loc[:, ['text_clean', 'sentiment']]\n"
      ]
    },
    {
      "cell_type": "code",
      "execution_count": null,
      "metadata": {
        "colab": {
          "base_uri": "https://localhost:8080/",
          "height": 206
        },
        "id": "S-a1McvEHTfj",
        "outputId": "4a9fd9be-6e72-4cdb-89d8-638367377067"
      },
      "outputs": [
        {
          "output_type": "execute_result",
          "data": {
            "text/plain": [
              "                                          text_clean  sentiment\n",
              "0  @virginamerica plus żidt riklami mal-esperjenz...          0\n",
              "1  @virginamerica huwa tassew aggressiv li blast ...          1\n",
              "2  @virginamerica u hija ħaġa ħażina tassew kbira...          1\n",
              "3  @virginamerica serjament tħallas $ 30 titjira ...          1\n",
              "4  @virginamerica iva, kważi kull darba li ntajja...          0"
            ],
            "text/html": [
              "\n",
              "  <div id=\"df-4726bc65-faf1-48c9-a277-4c9cd08b8090\">\n",
              "    <div class=\"colab-df-container\">\n",
              "      <div>\n",
              "<style scoped>\n",
              "    .dataframe tbody tr th:only-of-type {\n",
              "        vertical-align: middle;\n",
              "    }\n",
              "\n",
              "    .dataframe tbody tr th {\n",
              "        vertical-align: top;\n",
              "    }\n",
              "\n",
              "    .dataframe thead th {\n",
              "        text-align: right;\n",
              "    }\n",
              "</style>\n",
              "<table border=\"1\" class=\"dataframe\">\n",
              "  <thead>\n",
              "    <tr style=\"text-align: right;\">\n",
              "      <th></th>\n",
              "      <th>text_clean</th>\n",
              "      <th>sentiment</th>\n",
              "    </tr>\n",
              "  </thead>\n",
              "  <tbody>\n",
              "    <tr>\n",
              "      <th>0</th>\n",
              "      <td>@virginamerica plus żidt riklami mal-esperjenz...</td>\n",
              "      <td>0</td>\n",
              "    </tr>\n",
              "    <tr>\n",
              "      <th>1</th>\n",
              "      <td>@virginamerica huwa tassew aggressiv li blast ...</td>\n",
              "      <td>1</td>\n",
              "    </tr>\n",
              "    <tr>\n",
              "      <th>2</th>\n",
              "      <td>@virginamerica u hija ħaġa ħażina tassew kbira...</td>\n",
              "      <td>1</td>\n",
              "    </tr>\n",
              "    <tr>\n",
              "      <th>3</th>\n",
              "      <td>@virginamerica serjament tħallas $ 30 titjira ...</td>\n",
              "      <td>1</td>\n",
              "    </tr>\n",
              "    <tr>\n",
              "      <th>4</th>\n",
              "      <td>@virginamerica iva, kważi kull darba li ntajja...</td>\n",
              "      <td>0</td>\n",
              "    </tr>\n",
              "  </tbody>\n",
              "</table>\n",
              "</div>\n",
              "      <button class=\"colab-df-convert\" onclick=\"convertToInteractive('df-4726bc65-faf1-48c9-a277-4c9cd08b8090')\"\n",
              "              title=\"Convert this dataframe to an interactive table.\"\n",
              "              style=\"display:none;\">\n",
              "        \n",
              "  <svg xmlns=\"http://www.w3.org/2000/svg\" height=\"24px\"viewBox=\"0 0 24 24\"\n",
              "       width=\"24px\">\n",
              "    <path d=\"M0 0h24v24H0V0z\" fill=\"none\"/>\n",
              "    <path d=\"M18.56 5.44l.94 2.06.94-2.06 2.06-.94-2.06-.94-.94-2.06-.94 2.06-2.06.94zm-11 1L8.5 8.5l.94-2.06 2.06-.94-2.06-.94L8.5 2.5l-.94 2.06-2.06.94zm10 10l.94 2.06.94-2.06 2.06-.94-2.06-.94-.94-2.06-.94 2.06-2.06.94z\"/><path d=\"M17.41 7.96l-1.37-1.37c-.4-.4-.92-.59-1.43-.59-.52 0-1.04.2-1.43.59L10.3 9.45l-7.72 7.72c-.78.78-.78 2.05 0 2.83L4 21.41c.39.39.9.59 1.41.59.51 0 1.02-.2 1.41-.59l7.78-7.78 2.81-2.81c.8-.78.8-2.07 0-2.86zM5.41 20L4 18.59l7.72-7.72 1.47 1.35L5.41 20z\"/>\n",
              "  </svg>\n",
              "      </button>\n",
              "      \n",
              "  <style>\n",
              "    .colab-df-container {\n",
              "      display:flex;\n",
              "      flex-wrap:wrap;\n",
              "      gap: 12px;\n",
              "    }\n",
              "\n",
              "    .colab-df-convert {\n",
              "      background-color: #E8F0FE;\n",
              "      border: none;\n",
              "      border-radius: 50%;\n",
              "      cursor: pointer;\n",
              "      display: none;\n",
              "      fill: #1967D2;\n",
              "      height: 32px;\n",
              "      padding: 0 0 0 0;\n",
              "      width: 32px;\n",
              "    }\n",
              "\n",
              "    .colab-df-convert:hover {\n",
              "      background-color: #E2EBFA;\n",
              "      box-shadow: 0px 1px 2px rgba(60, 64, 67, 0.3), 0px 1px 3px 1px rgba(60, 64, 67, 0.15);\n",
              "      fill: #174EA6;\n",
              "    }\n",
              "\n",
              "    [theme=dark] .colab-df-convert {\n",
              "      background-color: #3B4455;\n",
              "      fill: #D2E3FC;\n",
              "    }\n",
              "\n",
              "    [theme=dark] .colab-df-convert:hover {\n",
              "      background-color: #434B5C;\n",
              "      box-shadow: 0px 1px 3px 1px rgba(0, 0, 0, 0.15);\n",
              "      filter: drop-shadow(0px 1px 2px rgba(0, 0, 0, 0.3));\n",
              "      fill: #FFFFFF;\n",
              "    }\n",
              "  </style>\n",
              "\n",
              "      <script>\n",
              "        const buttonEl =\n",
              "          document.querySelector('#df-4726bc65-faf1-48c9-a277-4c9cd08b8090 button.colab-df-convert');\n",
              "        buttonEl.style.display =\n",
              "          google.colab.kernel.accessAllowed ? 'block' : 'none';\n",
              "\n",
              "        async function convertToInteractive(key) {\n",
              "          const element = document.querySelector('#df-4726bc65-faf1-48c9-a277-4c9cd08b8090');\n",
              "          const dataTable =\n",
              "            await google.colab.kernel.invokeFunction('convertToInteractive',\n",
              "                                                     [key], {});\n",
              "          if (!dataTable) return;\n",
              "\n",
              "          const docLinkHtml = 'Like what you see? Visit the ' +\n",
              "            '<a target=\"_blank\" href=https://colab.research.google.com/notebooks/data_table.ipynb>data table notebook</a>'\n",
              "            + ' to learn more about interactive tables.';\n",
              "          element.innerHTML = '';\n",
              "          dataTable['output_type'] = 'display_data';\n",
              "          await google.colab.output.renderOutput(dataTable, element);\n",
              "          const docLink = document.createElement('div');\n",
              "          docLink.innerHTML = docLinkHtml;\n",
              "          element.appendChild(docLink);\n",
              "        }\n",
              "      </script>\n",
              "    </div>\n",
              "  </div>\n",
              "  "
            ]
          },
          "metadata": {},
          "execution_count": 7
        }
      ],
      "source": [
        "data_clean.head()\n"
      ]
    },
    {
      "cell_type": "code",
      "execution_count": null,
      "metadata": {
        "id": "913BuwWiHWg7"
      },
      "outputs": [],
      "source": [
        "train, test = train_test_split(data_clean.dropna(), test_size=0.2, random_state=1)\n",
        "X_train = train['text_clean'].values\n",
        "X_test = test['text_clean'].values\n",
        "y_train = train['sentiment']\n",
        "y_test = test['sentiment']\n",
        "\n",
        "\n",
        "\n"
      ]
    },
    {
      "cell_type": "code",
      "source": [
        "print(y_train)"
      ],
      "metadata": {
        "colab": {
          "base_uri": "https://localhost:8080/"
        },
        "id": "3Y8Dk9fOn0un",
        "outputId": "cf7efab6-89e6-42ec-ef97-4ff6355baedc"
      },
      "execution_count": null,
      "outputs": [
        {
          "output_type": "stream",
          "name": "stdout",
          "text": [
            "3737     0\n",
            "10550    0\n",
            "4884     1\n",
            "2977     1\n",
            "9179     1\n",
            "        ..\n",
            "7813     1\n",
            "10955    0\n",
            "905      1\n",
            "5192     1\n",
            "235      1\n",
            "Name: sentiment, Length: 9555, dtype: int64\n"
          ]
        }
      ]
    },
    {
      "cell_type": "code",
      "execution_count": null,
      "metadata": {
        "id": "pS21WJkLHgVT"
      },
      "outputs": [],
      "source": [
        "def tokenize(text): \n",
        "    tknzr = TweetTokenizer()\n",
        "    return tknzr.tokenize(text)\n",
        "\n",
        "def stem(doc):\n",
        "    return (stemmer.stem(w) for w in analyzer(doc))\n",
        "\n",
        "\n",
        "vectorizer = CountVectorizer(\n",
        "    analyzer = 'word',\n",
        "    tokenizer = tokenize,\n",
        "    lowercase = True,\n",
        "    ngram_range=(1, 1),\n",
        "    )"
      ]
    },
    {
      "cell_type": "code",
      "execution_count": null,
      "metadata": {
        "id": "Q5wOdvIrHlcx"
      },
      "outputs": [],
      "source": [
        "kfolds = StratifiedKFold(n_splits=5, shuffle=True, random_state=1)\n",
        "#from sklearn.model_selection import KFold\n",
        "\n",
        "#kfolds = KFold(n_splits=5, shuffle=True, random_state=1)\n"
      ]
    },
    {
      "cell_type": "code",
      "execution_count": null,
      "metadata": {
        "colab": {
          "base_uri": "https://localhost:8080/"
        },
        "id": "39NpnWFvHnYz",
        "outputId": "f7fdc3f6-1cb2-443f-8e68-ce01f37f31f4"
      },
      "outputs": [
        {
          "output_type": "stream",
          "name": "stdout",
          "text": [
            "Fitting 5 folds for each of 3 candidates, totalling 15 fits\n"
          ]
        },
        {
          "output_type": "execute_result",
          "data": {
            "text/plain": [
              "0.9150272080368355"
            ]
          },
          "metadata": {},
          "execution_count": 12
        }
      ],
      "source": [
        "np.random.seed(1)\n",
        "\n",
        "pipeline_svm = make_pipeline(vectorizer, \n",
        "                            SVC(probability=True, kernel=\"linear\", class_weight=\"balanced\"))\n",
        "\n",
        "grid_svm = GridSearchCV(pipeline_svm,\n",
        "                    param_grid = {'svc__C': [0.01, 0.1, 1]}, \n",
        "                    cv = kfolds,\n",
        "                    verbose=1,   \n",
        "                    n_jobs=-1) \n",
        "\n",
        "grid_svm.fit(X_train, y_train)\n",
        "grid_svm.score(X_test, y_test)"
      ]
    },
    {
      "cell_type": "code",
      "execution_count": null,
      "metadata": {
        "id": "LurObCuXHpQK"
      },
      "outputs": [],
      "source": [
        "grid_svm.best_params_\n"
      ]
    },
    {
      "cell_type": "code",
      "execution_count": null,
      "metadata": {
        "id": "_rwLF5dUHrGi"
      },
      "outputs": [],
      "source": [
        "grid_svm.best_score_\n"
      ]
    },
    {
      "cell_type": "code",
      "execution_count": null,
      "metadata": {
        "id": "MxI3gaqaHuHK"
      },
      "outputs": [],
      "source": [
        "def report_results(model, X, y):\n",
        "    pred_proba = model.predict_proba(X)[:, 1]\n",
        "    pred = model.predict(X)        \n",
        "\n",
        "    auc = roc_auc_score(y, pred_proba)\n",
        "    acc = accuracy_score(y, pred)\n",
        "    f1 = f1_score(y, pred)\n",
        "    prec = precision_score(y, pred)\n",
        "    rec = recall_score(y, pred)\n",
        "    result = {'auc': auc, 'f1': f1, 'acc': acc, 'precision': prec, 'recall': rec}\n",
        "    return result"
      ]
    },
    {
      "cell_type": "code",
      "execution_count": null,
      "metadata": {
        "id": "lrl2i5r6Hv3K"
      },
      "outputs": [],
      "source": [
        "report_results(grid_svm.best_estimator_, X_test, y_test)\n"
      ]
    },
    {
      "cell_type": "code",
      "execution_count": null,
      "metadata": {
        "id": "__L4uUliHxsr"
      },
      "outputs": [],
      "source": [
        "def get_roc_curve(model, X, y):\n",
        "    pred_proba = model.predict_proba(X)[:, 1]\n",
        "    fpr, tpr, _ = roc_curve(y, pred_proba)\n",
        "    return fpr, tpr"
      ]
    },
    {
      "cell_type": "code",
      "execution_count": null,
      "metadata": {
        "id": "ke70vA1ZHy4C"
      },
      "outputs": [],
      "source": [
        "roc_svm = get_roc_curve(grid_svm.best_estimator_, X_test, y_test)\n"
      ]
    },
    {
      "cell_type": "code",
      "execution_count": null,
      "metadata": {
        "id": "z1KUUGYbH07S"
      },
      "outputs": [],
      "source": [
        "fpr, tpr = roc_svm\n",
        "plt.figure(figsize=(14,8))\n",
        "plt.plot(fpr, tpr, color=\"red\")\n",
        "plt.plot([0, 1], [0, 1], color='black', lw=2, linestyle='--')\n",
        "plt.xlim([0.0, 1.0])\n",
        "plt.ylim([0.0, 1.05])\n",
        "plt.xlabel('False Positive Rate')\n",
        "plt.ylabel('True Positive Rate')\n",
        "plt.title('Roc curve')\n",
        "plt.show()"
      ]
    },
    {
      "cell_type": "code",
      "execution_count": null,
      "metadata": {
        "id": "h0Gm5pYZH3XT"
      },
      "outputs": [],
      "source": [
        "from sklearn.model_selection import learning_curve\n",
        "\n",
        "train_sizes, train_scores, test_scores = \\\n",
        "    learning_curve(grid_svm.best_estimator_, X_train, y_train, cv=5, n_jobs=-1, \n",
        "                   scoring=\"roc_auc\", train_sizes=np.linspace(.1, 1.0, 10), random_state=1)"
      ]
    },
    {
      "cell_type": "code",
      "execution_count": null,
      "metadata": {
        "id": "WT1jZbD9H6tz"
      },
      "outputs": [],
      "source": [
        "def plot_learning_curve(X, y, train_sizes, train_scores, test_scores, title='', ylim=None, figsize=(14,8)):\n",
        "\n",
        "    plt.figure(figsize=figsize)\n",
        "    plt.title(title)\n",
        "    if ylim is not None:\n",
        "        plt.ylim(*ylim)\n",
        "    plt.xlabel(\"Training examples\")\n",
        "    plt.ylabel(\"Score\")\n",
        "\n",
        "    train_scores_mean = np.mean(train_scores, axis=1)\n",
        "    train_scores_std = np.std(train_scores, axis=1)\n",
        "    test_scores_mean = np.mean(test_scores, axis=1)\n",
        "    test_scores_std = np.std(test_scores, axis=1)\n",
        "    plt.grid()\n",
        "\n",
        "    plt.fill_between(train_sizes, train_scores_mean - train_scores_std,\n",
        "                     train_scores_mean + train_scores_std, alpha=0.1,\n",
        "                     color=\"r\")\n",
        "    plt.fill_between(train_sizes, test_scores_mean - test_scores_std,\n",
        "                     test_scores_mean + test_scores_std, alpha=0.1, color=\"g\")\n",
        "    plt.plot(train_sizes, train_scores_mean, 'o-', color=\"r\",\n",
        "             label=\"Training score\")\n",
        "    plt.plot(train_sizes, test_scores_mean, 'o-', color=\"g\",\n",
        "             label=\"Cross-validation score\")\n",
        "\n",
        "    plt.legend(loc=\"lower right\")\n",
        "    return plt"
      ]
    },
    {
      "cell_type": "code",
      "execution_count": null,
      "metadata": {
        "id": "rhpEytNYIsSs"
      },
      "outputs": [],
      "source": [
        "plot_learning_curve(X_train, y_train, train_sizes, \n",
        "                    train_scores, test_scores, ylim=(0.7, 1.01), figsize=(14,6))\n",
        "plt.show()"
      ]
    },
    {
      "cell_type": "code",
      "execution_count": null,
      "metadata": {
        "id": "KGDn36XiIvXr"
      },
      "outputs": [],
      "source": [
        "grid_svm.predict([\"Engineering students who complete their studies at MCAST are now free to apply for their warrants without having to sit for additional courses or exams. Two years ago, a group of engineering students took to the Board of the Engineering Profession the Court asked to be allowed to apply for a warrant after their attempts to obtain one were rejected. The board had refused to allow students who completed their studies at MCAST to apply for a warrant, citing insufficient academic standards in college. The issue was partially resolved last year when MCAST graduates had to be allowed to obtain their warrant after completing an additional pre-qualification course approved by the engineering board. Current and future engineering students at MCAST will now no longer have to sit for additional tuition to obtain their warrant, Education Minister Clifton Grima and Planning Minister Stefan Zrinzo Azzopardi said at a conference of the news Wednesday, after a period of review on the academic course. comes to an end. This is an important milestone that continues to confirm MCAST as a strategic partner in the socio-economic development of our country, said Grima. It was an unfair anomaly to see students graduating without a path to get their warrant that was not appropriate to our education system. We can finally acknowledge the efforts of these students and say with confidence that they are able to find their place there because of the skills they have acquired in college. MCAST Chief James Calleja expressed gratitude that students who worked hard to get their qualifications will finally be seeing results, a moment they have been waiting for 11 years. ““ Despite how hard this process has been I am happy to have also learned our value as an institution, ”he said. With 40 qualified engineers in our department, 20 of whom have read for their doctorates, I am pleased to say that we have undeniable academic strength and that the auditors have realized how serious we are about the profession. I am pleased that we can continue to be a part of this academic process and that we can continue to help our students on their journey to become the engineers of the future. \"])\n"
      ]
    },
    {
      "cell_type": "code",
      "execution_count": null,
      "metadata": {
        "id": "aYitHVC_HxVB"
      },
      "outputs": [],
      "source": []
    },
    {
      "cell_type": "code",
      "execution_count": null,
      "metadata": {
        "colab": {
          "base_uri": "https://localhost:8080/"
        },
        "id": "6CrTN9aUHyIn",
        "outputId": "0b61fc50-e4cc-4ac9-930c-15ed2eb7c383"
      },
      "outputs": [
        {
          "output_type": "stream",
          "name": "stdout",
          "text": [
            "Il-katavru ta’ Lassana Cisse, li nqatel f’attakk b’motivazzjoni razzjali, telaq minn Malta lejn il-Kosta tal-Avorju, twelidu, tliet snin wara mewtu.\n",
            "\n",
            "L-attivista Maria Pisani, qed takkumpanja l-katavru flimkien ma’ uffiċjal mill-ministeru tal-affarijiet barranin. Ittajjar lejn Pariġi u sejjer lejn Abidjan, il-kapitali ekonomika tal-Kosta tal-Avorju. Il-Ġimgħa mistenni jsir funeral.\n",
            "\n",
            "Cisse, ta’ 42 sena u missier ta’ żewġt itfal, inqatel fi sparatura drive-by f’April tal-2019 waqt li kien miexi lejn id-dar f’Ħal Far.\n",
            "\n",
            "Sussegwentement is-suldati Franceso Fenech u Lorin Scicluna ġew arrestati u akkużati bil-qtil kif ukoll bl-attentat ta’ qtil ta’ żewġt irġiel oħra u inċident ta’ hit and run kixfet minn Times of Malta .\n",
            "\n",
            "Il-qtil kif ukoll l-inċidenti l-oħra huma maħsuba li huma motivati ​​razzjalment. Kemm Fenech kif ukoll Scicluna bħalissa jinsabu barra fuq garanzija.\n",
            "\n",
            "Filwaqt li l-katavru ta’ Cisse ġie rilaxxat għad-difna disa’ xhur wara l-qtil, kien biss ix-xahar li għadda li finalment ġie organizzat ir-ripatrijazzjoni, wara appelli ripetuti minn ħbieb u membri tal-familja biex il-katavru jinħeles mill-kamra mortwarja.\n",
            "\n",
            "Il-gvern kien impenja ruħu li jkopri l-ispejjeż kollha tar-ripatrijazzjoni, inkluż it-trasport lejn il-post tad-dfin, il-permessi u l-miżati mortwarji. F'Marzu 2020, madankollu, wara t-tifqigħa tal-pandemija, il-portijiet ingħalqu u l-ivvjaġġar kien limitat ħafna minħabba każijiet ta 'virus li qed jiżdiedu.\n",
            "\n",
            "Tifkira għal Cisse, immexxija mill-Arċisqof Charles Scicluna u l-Imam Mohammed\n",
            "[0]\n",
            "Għal Maria Goncharova, ta’ 93 sena li ssalva mill-ġuħ devastanti li laqtet lill-Ukrajna fis-snin tletin, l-invażjoni tar-Russja qajmet biża’ li l-ħmar il-lejl tal-ġuħ jista’ jerġa’ jseħħ.\n",
            "\n",
            "Imqatta 'għajxien mill-kampanja ta' \"kollettivizzazzjoni\" sfurzata ta' Stalin, meta l-qamħ maqbud u oġġetti oħra tal-ikel ħallew miljuni biex ibatu bil-ġuħ, din l-anzjana għadha tgħożż kollox minħabba l-biża' li tmur mingħajr. \n",
            "\n",
            "Minn mindu bdiet l-invażjoni Russa, is-smewwiet fuq id-dar żgħira tagħha blu ċar f’Cheremushna, raħal fir-reġjun tal-Lvant ta’ Kharkiv, imtlew bil-missili, u l-gwerra ġġib lura xi memorji koroh. \n",
            "\n",
            "“Aħna baqgħu ħajjin biss billi sajjar patata u ftit dqiq kuljum,” tgħid Goncharova, xalpa ħamra li tkopri xagħarha, li għandha tliet tiġieġ fil-ġnien żgħir tagħha. \n",
            "\n",
            "Il-pensjoni ċkejkna ta’ kull xahar tagħha ta’ 2,000 hryvnia (€65) tfisser li kull ċenteżmu jgħodd, b’kollox imsajjar fuq il-fuklar tagħha li jaħraq bl-injam. \n",
            "\n",
            "Ir-Russi “diġà serqulna ħafna qamħ u kapaċi jieħdu kollox,” tgħajjat, jaqsam lilha nnifisha. \n",
            "\n",
            "L-Holodomor\n",
            "Magħruf bħala l-\"Holodomor\" - Ukrain għal \"mewt bil-ġuħ\" - il-ġuħ tal-1932-1933 hija meqjusa minn Kyiv bħala att intenzjonat ta' ġenoċidju mir-reġim ta' Stalin bl-intenzjoni li jelimina l-peasantry.\n",
            "\n",
            "“L-ikel kien użat mill-awtoritajiet Sovjetiċi biex jilħqu l-għanijiet tagħhom billi joqtlu lil dawk li kienu qed jirreżistu l-awtorità tagħhom fuq skala kbira,” qalet Lyudmyla Grynevych, storika li tmexxi ċ-ċentru ta’ riċerka u edukazzjoni Holodomor. \n",
            "\n",
            "L-Holodomor ilu għal żmien twil punt ewlieni ta’ tfixkil fir-rabtiet bejn ir-Russja u l-Ukrajna.\n",
            "\n",
            "Moska tirrifjuta n-narrattiva ta’ Kyiv, u tpoġġi l-avvenimenti fil-kuntest usa’ tal-ġuħ li qerdu r-reġjuni tal-Asja Ċentrali u r-Russja. \n",
            "\n",
            "U l-kunflitt attwali qajjem biss biża’ li l-istorja tista’ tirrepeti ruħha, bil-mira tar-Russja lejn faċilitajiet ta’ ħażna tal-qamħ u l-imblokk tagħha tal-esportazzjonijiet tal-Ukrajna fil-Baħar l-Iswed qanqlu akkużi li Moska għal darb’oħra qed tuża l-ikel bħala arma tal-gwerra.\n",
            "\n",
            "Il-Kap tal-Kummissjoni Ewropea Ursula von der Leyen qajmet l-allegazzjoni f’Davos u aktar kmieni dan ix-xahar, Andriy Yermak, il-kap tal-Presidenza tal-Ukrajna, akkuża lir-Russja li “pprovat toħloq mill-ġdid l-Holodomor” permezz tat-tqaxxir tagħha taż-żoni agrikoli.\n",
            "\n",
            "“Is-snin tletin huma addattati ħafna biex isiru paralleli għax dak kien ukoll tentattiv biex neqred dik li llum insejħu l-entità politika li hija l-Ukrajna,” jgħid Grynevych. \n",
            "\n",
            "\"L-Ukrajni kellhom il-qamħ tagħhom ikkonfiskat u mietu bil-ġuħ, u mbagħad l-awtoritajiet Sovjetiċi bagħtu xi qamħ iżda biss lil dawk li qablu li jingħaqdu mal-kolkhozes,\" qalet, b'referenza għall-koperattivi agrikoli kbar Sovjetiċi.\n",
            "\n",
            "Marka fuq kull familja\n",
            "Kharkiv, li tinsab aktar minn 450 kilometru fil-lvant ta’ Kiev, kienet l-ewwel kapitali tar-Repubblika Soċjalista Sovjetika tal-Ukraina mill-1919-1934. \n",
            "\n",
            "Dak iż-żmien, iż-żona kienet meqjusa bħala waħda mill-aqwa 23 reġjun l-aktar fertili fl-Unjoni Sovjetika kollha. \n",
            "\n",
            "Madwar ir-raħal ta’ Cheremushna fejn trabba Goncharova, “terz tar-residenti mietu” waqt il-ġuħ, tgħid Tamara Polishchuk, li tmexxi mużew iddedikat lill-Holodomor. \n",
            "\n",
            "Iżda anke dakinhar, mhux l-imwiet kollha ġew irreġistrati peress li l-proċess \"kien sospiż\", qal Polishchuk, li għamel riċerka estensiva dwar is-suġġett. \n",
            "\n",
            "Għaliha, kull familja fl-inħawi hija mmarkata bil-memorja tal-ġuħ devastanti li l-USSR ppruvat għal għexieren ta’ snin tħassar, u li l-Ukrajna setgħet tfakkar waħedha biss wara l-indipendenza fl-1991. \n",
            "\n",
            "Li turi l-provvisti li poġġiet, Goncharova kburi tgħid li \"għad għandha ftit minn kollox\". \n",
            "\n",
            "\"Ħafna pajjiżi jgħinuna. Jġibulna l-affarijiet u jagħtuhom lin-nies. Imma Alla biss jaf kemm se jibqa' għaddej,\" tgħid qabel toħroġ toqgħod bilqiegħda fuq il-porch tagħha fid-dell ta' siġra tal-ġewż.\n",
            "[1]\n",
            "Ghislaine Maxwell ġiet ikkundannata 20 sena ħabs minn imħallef ta’ New York it-Tlieta talli għenet lill-mibki finanzjaru Jeffrey Epstein jabbuża sesswalment minn bniet.\n",
            "\n",
            "It-terminu, mogħti fil-qorti federali ta’ Manhattan, ifisser li l-eks soċjalita ta’ 60 sena se tqatta’ ħafna mill-bqija ta’ ħajjitha fil-ħabs.\n",
            "\n",
            "It-tifla tal-mibki Barun tal-istampa Ingliża Robert Maxwell, edukata f’Oxford, kienet instabet ħatja lejn l-aħħar tas-sena li għaddiet fuq ħamsa minn sitt akkuża, l-aktar serji għal minorenni li jittraffikaw is-sess.\n",
            "\n",
            "L-avukati tagħha kienu argumentaw għall-klemenza, u kkwotaw tfulija trawmatika u sostnew li Maxwell kien qed jiġi kkastigat b’mod inġust minħabba li Epstein ħarab mill-proċess.\n",
            "\n",
            "Huma kienu talbu għal massimu ta’ ħames snin filwaqt li l-prosekuturi talbu bejn 30 u 55 sena ħabs.\n",
            "\n",
            "Fl-aħħar, l-imħallef Alison Nathan marret b’20, l-ammont ta’ żmien rakkomandat mill-uffiċċju tal-probation tal-Istati Uniti.\n",
            "\n",
            "Matul il-proċess ta’ profil għoli ta’ Maxwell lejn l-aħħar tal-2021, il-prosekuturi wrew b’suċċess li hija kienet “iċ-ċavetta” għall-iskema ta’ Epstein li tħajjar lil tfajliet biex jagħtuh massaġġi, li matulhom kien jabbuża minnhom sesswalment.\n",
            "\n",
            "Tnejn mill-vittmi ta’ Epstein, identifikati bħala “Jane” u “Carolyn,” xehdu li kellhom 14-il sena meta Maxwell beda jħejjihom.\n",
            "\n",
            "L-avukati ta 'Maxwell qalu li l-klijent tagħhom kellu \"tfulija diffiċli u trawmatika b'missier overbearing, narcisistic, u eżiġenti.\"\n",
            "\n",
            "\"Għamilha vulnerabbli għal Epstein, li ltaqgħet miegħu eżatt wara l-mewt ta 'missierha,\" kitbu f'sottomissjonijiet ippreżentati aktar kmieni dan ix-xahar.\n",
            "\n",
            "Il-maniġer tal-flus Epstein qatel lilu nnifsu fil-ħabs fl-2019 ta’ 66 sena waqt li kien qed jistenna l-proċess tiegħu stess fi New York għal delitti sesswali.\n",
            "\n",
            "\"Is-Sinjura Maxwell ma tistax u m'għandhiex ġġorr il-piena kollha li għaliha Epstein kellu jinżamm responsabbli,\" talbu l-avukati tagħha.\n",
            "\n",
            "'Ħsara devastanti'\n",
            "Iżda l-prosekuzzjoni sostniet fil-preżentata tal-qorti tagħha stess il-ġimgħa li għaddiet li Maxwell \"kien adult li għamel l-għażliet tagħha stess.\"\n",
            "\n",
            "Sostnew li hija kienet uriet “nuqqas totali ta’ rimors” għad-delitti tagħha, imwettqa bejn l-1994 u l-2004.\n",
            "\n",
            "“Is-sentenza tal-lum iżżomm lil Ghislaine Maxwell responsabbli għat-twettiq ta’ reati faħxi kontra t-tfal,” qal Damian Williams, l-avukat Amerikan għad-Distrett tan-Nofsinhar ta’ New York.\n",
            "\n",
            "“Din is-sentenza tibgħat messaġġ qawwi li ħadd mhu ‘l fuq mil-liġi u qatt mhu tard wisq għall-ġustizzja,” żied jgħid.\n",
            "\n",
            "Maxwell diġà ilha miżmuma f'detenzjoni għal xi sentejn wara l-arrest tagħha fi New Hampshire fis-sajf tal-2020.\n",
            "\n",
            "“Ghislaine trid tmut fil-ħabs,” qalu lil Maxwell u l-akkużatur ta’ Epstein Sarah Ransome lill-ġurnalisti barra l-qorti.\n",
            "\n",
            "Is-sentenza ta’ Maxwell tillimita tnaqqis drammatiku għall-eks jetsetter internazzjonali li trabba fil-ġid u l-privileġġ bħala ħabib tar-royalties.\n",
            "\n",
            "Iċ-ċirku tagħha kien jinkludi l-Prinċep Brittaniku Andrew, l-eks President Amerikan u Barun tal-proprjetà immobbli Donald Trump u l-familja Clinton.\n",
            "\n",
            "Fi Frar, il-Prinċep Andrew solviet kawża dwar abbuż sesswali ma’ Virginia Giuffre, li qalet li kienet ġiet traffikata lir-royal minn Epstein u Maxwell.\n",
            "\n",
            "F'April, Nathan ċaħad talba minn Maxwell għal proċess ġdid. \n",
            "\n",
            "Hija argumentat mingħajr suċċess li ġurat, li kien ftaħar li għen biex jikkonvinċi lil sħabi tal-panel biex jikkundanna lil Maxwell billi fakkar fl-esperjenzi tiegħu stess bħala vittma ta’ abbuż sesswali, kien ippreġudika lill-ġurija.\n",
            "[1]\n",
            "Mill-inqas 49 priġunier inqatlu u għexieren oħra ndarbu kmieni nhar it-Tlieta waqt attentat ta’ ħarba mill-ħabs fil-Lbiċ tal-Kolombja, qal lill-AFP uffiċjal mill-aġenzija nazzjonali tal-ħabsijiet.\n",
            "\n",
            "“S’issa hemm 49 mejta,” qal kelliem għall-Istitut Nazzjonali tal-Penitenzjarju u l-Ħabs, li żied li n-noll mill-belt ta’ Tulua kien preliminari u “jista’ jinbidel”.\n",
            "\n",
            "It-traġedja seħħet waqt attentat ta’ ħarba segwit minn nirien, qalu lill-awtoritajiet Caracol Radio.\n",
            "\n",
            "Skont dak ir-rapport, aktar minn 40 persuna ndarbu.\n",
            "\n",
            "Il-President uxxenti Ivan Duque bagħat tweet fejn joffri s-solidarjetà tiegħu mal-qraba tal-vittmi.\n",
            "\n",
            "Hu ma pprovdiex għadd ta’ mwiet.\n",
            "\n",
            "\"Niddispjaċina għall-avvenimenti li seħħew fil-ħabs f'Tulua, Valle del Cauca,\" qal Duque.\n",
            "\n",
            "\"Jien tajt struzzjonijiet biex niċċara din is-sitwazzjoni terribbli. Is-solidarjetà tiegħi hija mal-familji tal-vittmi.\"\n",
            "\n",
            "Irvelli fatali tal-ħabs mhumiex komuni fl-Amerika Latina. Fl-Ekwador ġar tal-Kolombja, kważi 400 priġunier inqatlu f’sitt irvellijiet mill-bidu tal-2021.\n",
            "[1]\n",
            "L-attakk b’missili Russa nhar it-Tnejn laqat mall iffullat fil-belt ta’ Kremenchuk fil-Lvant tal-Ukrajna, qal il-President tal-Ukrajna Volodymyr Zelensky, li qatel mill-inqas 10 u weġġa’ għexieren oħra.\n",
            "\n",
            "\"L-okkupanti sparaw missili lejn ċentru tax-xiri fejn kien hemm aktar minn elf ċivili. Il-Mall qed jieħu n-nar, is-salvataġġ qed jiġġieldu n-nar. In-numru ta 'vittmi huwa impossibbli li wieħed jimmaġina,\" kiteb Zelensky fuq Telegram. \n",
            "\n",
            "Filmat maqsum minn Zelensky wera li l-mall ħakem fi fjammi b’għexieren ta’ salvataġġ u trakk tat-tifi tan-nar barra.  \n",
            "\n",
            "\n",
            "Il-viċi kap tal-istaff tal-President Ukren, Kyrylo Tymoshenko, qal fuq Telegram li s’issa kien hemm madwar 20 midruba, b’disgħa f’“kundizzjoni serja”. \n",
            "\n",
            "Il-gvernatur tar-reġjun ta' Poltava Dmytro Lunin iddenunzja l-attakk bħala \"kriminalità tal-gwerra\" u \"kriminalità kontra l-umanità\", u qal li kien \"att ċinika ta' terrur kontra l-popolazzjoni ċivili\". \n",
            "\n",
            "In-NU slam strajk Russu 'deplorevoli' fuq mall                                    \n",
            "L-uffiċċju tas-Segretarju Ġenerali tan-Nazzjonijiet Uniti Antonio Guterres ikkundanna bħala \"totalment deplorevoli\" l-attakk fatali tar-Russja nhar it-Tnejn fuq mall iffullat fiċ-ċentru tal-Ukrajna.\n",
            "\n",
            "Kremenchuk, il-belt fejn seħħ l-attakk tal-missili, s’issa kienet meħlusa minn attakki diretti fil-kunflitt, qal il-kelliem ta’ Guterres Stephane Dujarric waqt konferenza stampa ta’ kuljum.\n",
            "\n",
            "\"Kull attakk li jolqot shopping mall huwa totalment deplorevoli,\" qal l-uffiċjal tan-NU.\n",
            "\n",
            "\"Nerġgħu nenfasizzaw li l-partijiet huma obbligati taħt il-liġi umanitarja internazzjonali li jipproteġu liċ-ċivili u l-infrastruttura ċivili,\" żied jgħid.\n",
            "\n",
            "Dujarric stqarr li ma setax jikkonferma n-numru ta’ mwiet tal-istrajk. \n",
            "\n",
            "Iżda Dmytro Lunin, il-gvernatur tar-reġjun tal-Ukrajna fejn seħħ l-attakk tal-missili, qal li mill-inqas 10 persuni nqatlu u aktar minn 40 midruba, u wissa li n-noll aktarx li se jiżdied.\n",
            "\n",
            " \n",
            "[1]\n",
            "Romelu Lukaku qal li kien “ferħan ħafna” li reġa’ wara li l-attakkant internazzjonali Belġjan wasal Milan nhar l-Erbgħa qabel ir-ritorn tiegħu ma’ Inter Milan b’self mingħand Chelsea.\n",
            "\n",
            "Lukaku ravi ħareġ mill-ajruport ta’ Linate fis-sigħat bikrin tal-Erbgħa filgħodu u ta r-rispons qasir iżda ferħan tiegħu lill-għadd żgħir ta’ ġurnalisti li kienu qed jistennew il-wasla tiegħu.\n",
            "\n",
            "Iż-żagħżugħ ta’ 29 sena se jagħmel eżami mediku aktar tard matul il-ġurnata qabel ma uffiċjalment ir-rimonta tiegħu tant mistennija ta’ Inter.\n",
            "\n",
            "Chelsea qablu ma’ ftehim irrappurtat li fih Inter se jħallsu tmien miljun ewro inizjali ($8.42 miljun) flimkien ma’ tliet miljun ewro potenzjali oħra f’bonuses għas-self.\n",
            "\n",
            "Lukaku se jerġa’ jmexxi l-attakk ta’ Inter hekk kif jippruvaw jerġgħu jiksbu t-titlu tas-Serie A wara li ħadu tnaqqis fil-pagi – 8.5 miljun ewro irrappurtat għall-kampanja li ġejja.\n",
            "[1]\n",
            "Studenti li jattendu l-Iskola Primarja tal-Gozo College Rabat, li ġejjin prinċipalment minn tliet parroċċi fir-Rabat – il-Fontana, San Ġorġ u l-parroċċa tal-Katidral – iċċelebraw il-qaddisin patruni rispettivi tagħhom waqt Jum il-Festa organizzata mit-tmexxija tal-Happy School fil-21 ta’ Ġunju.\n",
            "\n",
            "Madwar 350 student ħarġu bil-gerijiet tal-festa rispettivi tagħhom armati bi bnadar, bandalori u qrun. Il-bitħa tal-iskola, fejn saret l-attività, ġiet imżejna bil-bnadar mill-Għaqda Armar San Ġorġ. L-attività bdiet bil-kant tat-tliet innijiet tal-qaddisin rispettivi tagħhom, filwaqt li statwi ttellgħu spalla għolja fost il-ferħ tal-folla. Għalkemm ġejjin minn parroċċi differenti, it-tfal ipparteċipaw b’entużjażmu b’mod ta’ ħbiberija u ċivilizzat.\n",
            "\n",
            "Fi tmiem l-attività, il-kap tal-iskola Lelio Spiteri rringrazzja lill-għalliema, ġenituri u studenti għall-appoġġ u l-kooperazzjoni tagħhom fl-attivitajiet kollha li l-iskola torganizza matul is-sena.\n",
            "[1]\n",
            "Il-koronavirus ġiegħel lill-Cachias ipoġġu l-inizjattiva sospiża. Minflok, użaw is-sentejn biex jiġbru fondi għal vann li issa qed jużaw biex jieħdu l-kafè u s-sandwiches b’xejn lil hinn mit-taqsima tal-kura intensiva tal-Isptar Mater Dei.\n",
            "\n",
            "Minn din il-ġimgħa, se jkunu qed jużaw il-vann tagħhom biex jappoġġjaw lil ħaddieħor f’oqsma bħall-NPICU (neonatal pediatric intensive care unit), l-Isptar Monte Karmeli, ċentri ta’ riabilitazzjoni mid-droga u xelters għal superstiti minn vjolenza domestika. Se jkunu qed iwasslu s-sandwiches u l-kafè b’xejn f’dawn il-postijiet darba fil-ġimgħa, fuq bażi ta’ rotazzjoni.\n",
            "\n",
            "U, ma’ kull pakkett, qed jagħtu “tokens of kindness” – tokens magħmulin bl-idejn b’messaġġi ta’ inkoraġġiment magħmulin minn nies li jattendu ċentri ta’ matul il-jum għall-anzjanità attiva u l-kura fil-komunità.\n",
            "\n",
            "Għaliex qed jagħmlu dan? Għax jafu mill-ewwel kemm jista’ jkun diffiċli li toqgħod tistenna aħbarijiet fil-waiting area tal-isptar.\n",
            "\n",
            "Sammy Cachia iwassal sandwiches u kafè b’xejn lil Charge Nurse Annabelle Abela fl-ITU nhar il-Ħadd.  Ritratt: Facebook.com\n",
            "Sammy Cachia iwassal sandwiches u kafe b’xejn lill-Infirmiera tal-Inkarigata Annabelle Abela fl-ITU nhar il-Ħadd. Ritratt: Facebook.com\n",
            "Disa’ snin ilu, il-familja Cachia kienet miġbura imħassba fit-taqsima tal-kura intensiva tistenna biex tara jekk Jacob ta’ 15-il sena kienx se jsalva operazzjoni fil-moħħ.\n",
            "\n",
            "Jacob ġie dijanjostikat b’sinusite iżda meta l-batterji daħlu f’moħħu, kellu jgħaddi minn diversi operazzjonijiet li kienu jinkludu t-tneħħija ta’ parti mill-kranju u d-dħul ta’ pjanċa tat-titanju.\n",
            "\n",
            "Huwa tħalla emipleġiku, b'paraliżi parzjali fuq in-naħa tax-xellug ta 'ġismu, iżda s-sopravivenza u l-irkupru tiegħu ispiraw lill-familja biex tgħin lil oħrajn jittrattaw it-trawma tagħhom stess.\n",
            "\n",
            "L-inizjattivi tagħhom kienu jinkludu t-twaqqif tal-NGO Survivors Malta u l-pubblikazzjoni tal-ktieb  Jacob – My Titanium Man , li r-royalties tiegħu taw bidu għall-ħolma li jinfetaħ coffee shop f’Marsascala – Jacob's Brew Café – Pay It Forward.\n",
            "\n",
            "Il-ħanut tal-kafè jsegwi l-kunċett tal-pay-it-forward – l-idea li l-persuna li tibbenefika minn att tajjeb iħallas lura l-qalb tajba mhux lill-benefattur iżda lill-oħrajn. F’dan il-każ, il-profitti mill-ħanut tal-kafè jiddaħħlu f’Survivors Malta.\n",
            "[1]\n",
            "Birthdays, gradwazzjonijiet, tiġijiet, u t-twelid ta 'membri ġodda tal-familja. Dawn huma biss ftit mumenti li n-nies tilfu minnhom matul l-aħħar sentejn minħabba r-restrizzjonijiet tal-ivvjaġġar imposti minħabba COVID-19.\n",
            "\n",
            "Ftit jiem ilu, il-gvern Malti waqqa’ s-sistema ta’ ‘traffic light’ ta ’ restrizzjonijiet fuq l-ivvjaġġar , li jfisser li pajjiżi m’għadhomx ikklassifikati bħala ‘aħdar’, ‘aħmar’ jew ‘aħmar skur’ għall-ivvjaġġar.\n",
            "\n",
            "Id-deċiżjoni fetħet l-ivvjaġġar bejn Malta u madwar 100 pajjiż u territorju, li kienu għadhom ikklassifikati bħala 'aħmar skur' u l-vjaġġaturi kellhom bżonn permess mill-awtoritajiet tas-saħħa qabel itiru lejn u kellhom iwaqqfu kwarantina mal-wasla.\n",
            "\n",
            "Il-vjaġġaturi li jidħlu Malta għad iridu jippreżentaw ċertifikat validu tat-tilqim kontra l-COVID-19, riżultat negattiv ta’ test riċenti jew ċertifikat ta’ rkupru.\n",
            "\n",
            "Għal ħafna li għandhom il-familja u l-maħbubin li jgħixu f’pajjiżi ‘aħmar skur’, it-tneħħija tal-lista tal-ivvjaġġar ġabet daqqa ta’ solliev kbir, u eċċitament biex jippjanaw rijunjoni li kienet mistennija.\n",
            "\n",
            "Omm fl-aħħar tiltaqa’ ma’ binha u bin-neputi tagħha\n",
            "\n",
            "Lara* oriġinarjament telqet mill-Bosnja u Ħerzegovina fi Frar 2020 għal vaganza ta’ malajr f’Malta biex iżżur ħabib.\n",
            "\n",
            "Ftit kienet taf li fis-sentejn u nofs li ġejjin kienet se tiltaqa’ mar-raġel futur tagħha, kellha tieġ pandemiku, u tqatta’ l-biċċa l-kbira tat-tqala tagħha f’lockdown – dan kollu mingħajr il-preżenza tal-familja tagħha.\n",
            "\n",
            "Kien biss fi tmiem il-ġimgħa li għaddiet meta ommha fl-aħħar tiltaqa’ ma’ binha u bin-neputi tagħha ta’ sitt xhur minn meta l-Bożnja u Ħerzegovina tpoġġiet fuq il-lista ‘aħmar skur’ is-sena l-oħra, u b’hekk kien impossibbli li l-familja tivvjaġġa. direttament lejn Malta.\n",
            "\n",
            "“Jumejn qabel kellha tivvjaġġa lejn Malta, il-Bożnja u Ħerzegovina tmexxiet minn ‘aħmar’ għal ‘aħmar skur’,” qalet. “Madankollu, kont lest li nkopri l-ispejjeż kollha tal-ivvjaġġar għal ommi, kont lest li nħallas għas-soġġorn tagħha f’lukanda ta’ kwarantina sabiex tkun tista’ tkun preżenti għat-twelid u l-irkupru tiegħi. Li jkolli l-ewwel wild tiegħi fl-età ta’ 42 sena hija riskjuża u xtaqt li tkun maġenbi.”\n",
            "\n",
            "Minkejja li kienet imlaqqma għal kollox u bbukkjaw il-biljetti darbtejn, l-awtoritajiet Maltin ma tawhiex permess biex tivvjaġġa direttament lejn Malta – minflok talbu li l-ewwel tqatta’ 14-il jum f’pajjiż ‘aħmar’ u mbagħad tagħmel kwarantina għal 14-il jum ladarba tasal Malta. \n",
            "\n",
            "“Sa dak iż-żmien, kont diġà wellidt, u tant li nivvjaġġa ma kienx jagħmel ġid lil ommi, għalhekk iddeċidejna li nħalluha. It-tnejn li aħna tant konna mdejqa, kelli verament bżonnha waqt it-tqala tiegħi.”\n",
            "\n",
            "Qalet li ma jkollokx il-familja tagħha madwar matul dawn l-aħħar sentejn kien “diżastru” u ma setgħetx tifhem għaliex l-awtoritajiet ma ħallewx lil ommha tivvjaġġa lejn Malta biex tkun preżenti waqt it-twelid.\n",
            "\n",
            "It-telefonati permezz ta’ Skype għenuha żżomm kuntatt mal-ġenituri tagħha, li wkoll tilfu t-tieġ ta’ binthom.\n",
            "\n",
            "“Meta kelli sebaʼ xhur tqala, iddeċidejna li niżżewweġ, u filwaqt li l- ġenituri taʼ żewġi setgħu jattendu għat- tieġ, li ma kellix il- ġenituri tiegħi maġenbi kien daqshekk orribbli u ħassejtni ħażin ħafna,” qalet.\n",
            "\n",
            "Meta l-gvern ħabbar it-tneħħija tal-projbizzjoni tal-ivvjaġġar, hija kienet f'nuqqas ta 'fidi totali. \"Ma stajtx nemmen, għall-ewwel, peress li l-Bosnja hija pajjiż mhux tal-UE u kienet waħda mill-ewwel fuq il-lista l-ħamra u mbagħad imxiet għal lista ħamra skura.\"\n",
            "\n",
            "Biex tkun sigura, hi u l-familja tagħha ddeċidew li jivvjaġġaw lejn il-Ġermanja, fejn tgħix il-familja ta’ żewġha, u hemmhekk fl-aħħar kienet se tiltaqa’ ma’ ommha.\n",
            "\n",
            "“Il-ġimgħa li għaddiet kienet l-ewwel darba li ommi żammet lil neputiha, u naf li se jqattgħu ħafna ħin flimkien, u dan jagħmilni kuntenta ħafna,” qalet.\n",
            "\n",
            "Il-pjanijiet biex tistieden lil bint Malta jittardjaw kontinwament\n",
            "\n",
            "Dax u n-neputija tagħha, li hija ltaqgħet magħhom biss permezz ta' chat fuq Facebook u sejħiet Skype matul il-pandemija.  Ritratt: Dax Arrozal Millado\n",
            "Dax u n-neputija tagħha, li hija ltaqgħet magħhom biss permezz ta' chat fuq Facebook u sejħiet Skype matul il-pandemija. Ritratt: Dax Arrozal Millado\n",
            "Dax Arrozal Millado rat l-aħħar erba’ wliedha lura f’Mejju 2018 u ppjanat li bintha ta’ dak iż-żmien ta’ 18-il sena żżur Malta għal btala biex tiċċelebra r-riżultati tal-eżamijiet tagħha.\n",
            "\n",
            "Madankollu, peress li l-Filippini tpoġġiet fuq il-lista 'aħmar skur', il-proċess kien ħafna aktar skoraġġanti. \"Aħna ċemplu u bgħatna e-mail lil kull dipartiment u settur tas-saħħa possibbli biex naraw liema dokumenti tal-ivvjaġġar kellha bżonn, iżda qatt ma rċevejna tweġiba pożittiva, u bqajt inħossni bla tama,\" qal Arrozal Millado.\n",
            "\n",
            "Bħal Lara*, qalulha li biex l-ivvjaġġar ta’ bintha jkun approvat mid-dipartiment tas-saħħa kellha tagħmel kwarantina f’pajjiż tal-lista l-ħamra u wara tiġi Malta. \"Il-proċess kien verament konfuż, bħal soluzzjoni ta 'puzzle ta' bosta miljuni.\"\n",
            "\n",
            "Ir-raġel ta’ 45 sena qalet li tilfet ħafna avvenimenti kbar importanti, bħal waħda miċ-ċerimonji tal-gradwazzjoni ta’ bintha, għeluq it-18-il sena ta’ bintha, u ltaqgħet personalment mal-ewwel neputija tagħha, li issa għandha sentejn u nofs. , li hija ltaqgħet biss permezz taċ-chat ta’ Facebook.\n",
            "\n",
            "Hija ddeskriviet li tħossok “verament ferħana u meħlusa” issa li s-sistema tad-dwal tat-traffiku tneħħiet, speċjalment peress li kienu bdew jitilfu t-tama.\n",
            "\n",
            "Billi tkun imlaqqma għal kollox, bintha issa se terġa’ tibda tipproċessa l-viża tagħha, bit-tama li żżur Malta dan is-sajf.\n",
            "\n",
            "“Il-pjan oriġinali kien li tiġi għal ġimagħtejn f’Mejju, iżda minħabba din is-sistema tat-traffic light kellna nibbukkjawha mill-ġdid il-biljetti tagħha, li jiswewlna €280 oħra, għalhekk nittamaw li jirnexxielna nippreżentaw ir-rekwiżiti u l-burokrazija l-ġodda kollha għal hi biex iżżurna qabel tibda l-iskola f’Awwissu.”\n",
            "[1]\n",
            "Studenti tal-inġinerija li jtemmu l-istudji tagħhom fl-MCAST issa huma liberi li japplikaw għall-warrants tagħhom mingħajr ma jkollhom joqogħdu għal korsijiet jew eżamijiet addizzjonali.\n",
            "\n",
            "Sentejn ilu, grupp ta’ studenti tal-inġinerija ħadu lill-Bord tal-Professjoni tal-Inġinerija l-Qorti talbu li jitħallew japplikaw għal warrant wara li t-tentattivi tagħhom biex jiksbu wieħed kienu ġew miċħuda.\n",
            "\n",
            "Il-bord kien irrifjuta li jippermetti lill- istudenti li temmew l-istudji tagħhom fl-MCAST milli japplikaw għal warrant, u kkwota standards akkademiċi insuffiċjenti fil-kulleġġ.\n",
            "\n",
            "Il-kwistjoni ġiet parzjalment irranġata s-sena l-oħra meta l-gradwati tal-MCAST kellhom jitħallew jiksbu l-warrant tagħhom wara li jtemmu kors addizzjonali ta’ prekwalifika approvat mill-bord tal-inġinerija.\n",
            "\n",
            "Studenti tal-inġinerija preżenti u futuri fl-MCAST issa mhux se jkollhom jibqgħu joqogħdu għal tagħlim addizzjonali biex jiksbu l-warrant tagħhom, qalu l-Ministru tal-Edukazzjoni Clifton Grima u l-Ministru tal-Ippjanar Stefan Zrinzo Azzopardi f’konferenza tal-aħbarijiet l-Erbgħa, wara perjodu ta’ reviżjoni fuq il-kors akkademiku. tasal fi tmiemu.\n",
            "\n",
            "“Dan huwa tragward importanti li jkompli jikkonferma lill-MCAST bħala sieħeb strateġiku fl-iżvilupp soċjoekonomiku ta’ pajjiżna,” qal Grima.\n",
            "\n",
            "\"Kienet anomalija inġusta li nara studenti jiggradwaw mingħajr triq biex jiksbu l-warrant tagħhom li ma kienx jixraq lis-sistema edukattiva tagħna.\"\n",
            "\n",
            "\"Nistgħu finalment nirrikonoxxu l-isforzi ta 'dawn l-istudenti u ngħidu b'kunfidenza li huma kapaċi jsibu posthom hemmhekk minħabba l-ħiliet li kisbu fil-kulleġġ.\" \n",
            "\n",
            "Il-Kap tal-MCAST James Calleja esprima gratitudni li studenti li ħadmu ħafna biex jiksbu l-kwalifiki tagħhom fl-aħħar se jkunu qed jaraw ir-riżultati, mument li ilhom jistennew 11-il sena.\n",
            "\n",
            "\"Minkejja kemm kien iebes dan il-proċess ninsab kuntent li tgħallimna wkoll il-valur tagħna bħala istituzzjoni,\" qal.\n",
            "\n",
            "“B’40 inġinier kwalifikat fid-dipartiment tagħna, li 20 minnhom qraw għad-dottorati tagħhom, bi pjaċir ngħid li għandna saħħa akkademika innegabbli u li l-awdituri rrealizzaw kemm aħna serji dwar il-professjoni.” \n",
            "\n",
            "\"Ninsab kuntent li nistgħu nkomplu nkunu parti minn dan il-proċess akkademiku u li nistgħu nkomplu ngħinu lill-istudenti tagħna fil-vjaġġ tagħhom biex isiru l-inġiniera tal-futur.\" \n",
            "[1]\n",
            "List of column names :  OrderedDict([('', '0'), ('text', \"Il-katavru ta’ Lassana Cisse, li nqatel f’attakk b’motivazzjoni razzjali, telaq minn Malta lejn il-Kosta tal-Avorju, twelidu, tliet snin wara mewtu.\\n\\nL-attivista Maria Pisani, qed takkumpanja l-katavru flimkien ma’ uffiċjal mill-ministeru tal-affarijiet barranin. Ittajjar lejn Pariġi u sejjer lejn Abidjan, il-kapitali ekonomika tal-Kosta tal-Avorju. Il-Ġimgħa mistenni jsir funeral.\\n\\nCisse, ta’ 42 sena u missier ta’ żewġt itfal, inqatel fi sparatura drive-by f’April tal-2019 waqt li kien miexi lejn id-dar f’Ħal Far.\\n\\nSussegwentement is-suldati Franceso Fenech u Lorin Scicluna ġew arrestati u akkużati bil-qtil kif ukoll bl-attentat ta’ qtil ta’ żewġt irġiel oħra u inċident ta’ hit and run kixfet minn Times of Malta .\\n\\nIl-qtil kif ukoll l-inċidenti l-oħra huma maħsuba li huma motivati \\u200b\\u200brazzjalment. Kemm Fenech kif ukoll Scicluna bħalissa jinsabu barra fuq garanzija.\\n\\nFilwaqt li l-katavru ta’ Cisse ġie rilaxxat għad-difna disa’ xhur wara l-qtil, kien biss ix-xahar li għadda li finalment ġie organizzat ir-ripatrijazzjoni, wara appelli ripetuti minn ħbieb u membri tal-familja biex il-katavru jinħeles mill-kamra mortwarja.\\n\\nIl-gvern kien impenja ruħu li jkopri l-ispejjeż kollha tar-ripatrijazzjoni, inkluż it-trasport lejn il-post tad-dfin, il-permessi u l-miżati mortwarji. F'Marzu 2020, madankollu, wara t-tifqigħa tal-pandemija, il-portijiet ingħalqu u l-ivvjaġġar kien limitat ħafna minħabba każijiet ta 'virus li qed jiżdiedu.\\n\\nTifkira għal Cisse, immexxija mill-Arċisqof Charles Scicluna u l-Imam Mohammed\"), ('Average Sentiment Label', 'negative')])\n"
          ]
        }
      ],
      "source": [
        "from csv import DictReader\n",
        "sentiment12 = []\n",
        "text12 = []\n",
        "prediction12 = []\n",
        "list_of_column_names = []\n",
        "\n",
        "# iterate over each line as a ordered dictionary and print only few column by column name\n",
        "with open('/content/maltesedocumenttestiung.csv', 'r', encoding='utf-8-sig') as read_obj:\n",
        "    csv_dict_reader = DictReader(read_obj)\n",
        "    for row in csv_dict_reader:\n",
        "      list_of_column_names.append(row)\n",
        "      print(row[\"text\"])\n",
        "      twt = [row['text']]\n",
        "      print(grid_svm.predict(twt))\n",
        "      prediction12.append(grid_svm.predict(twt))\n",
        "      sentiment12.append(row['Average Sentiment Label'])\n",
        "      text12.append(row['text'])  \n",
        "\n",
        "print(\"List of column names : \",\n",
        "      list_of_column_names[0])\n",
        "    "
      ]
    },
    {
      "cell_type": "code",
      "execution_count": null,
      "metadata": {
        "colab": {
          "base_uri": "https://localhost:8080/"
        },
        "id": "xTcecZb-hlaX",
        "outputId": "1c32df18-efb1-4212-e5c4-df080784ffc1"
      },
      "outputs": [
        {
          "output_type": "stream",
          "name": "stdout",
          "text": [
            "0\n",
            "1\n",
            "2\n",
            "3\n",
            "4\n",
            "5\n",
            "6\n",
            "7\n",
            "8\n",
            "9\n",
            "                                                text Average Sentiment Label  \\\n",
            "0  Il-katavru ta’ Lassana Cisse, li nqatel f’atta...                negative   \n",
            "1  Għal Maria Goncharova, ta’ 93 sena li ssalva m...                negative   \n",
            "2  Ghislaine Maxwell ġiet ikkundannata 20 sena ħa...                negative   \n",
            "3  Mill-inqas 49 priġunier inqatlu u għexieren oħ...                negative   \n",
            "4  L-attakk b’missili Russa nhar it-Tnejn laqat m...                negative   \n",
            "5  Romelu Lukaku qal li kien “ferħan ħafna” li re...                positive   \n",
            "6  Studenti li jattendu l-Iskola Primarja tal-Goz...                positive   \n",
            "7  Il-koronavirus ġiegħel lill-Cachias ipoġġu l-i...                positive   \n",
            "8  Birthdays, gradwazzjonijiet, tiġijiet, u t-twe...                positive   \n",
            "9  Studenti tal-inġinerija li jtemmu l-istudji ta...                positive   \n",
            "\n",
            "  predicted sentiment  \n",
            "0                 [0]  \n",
            "1                 [1]  \n",
            "2                 [1]  \n",
            "3                 [1]  \n",
            "4                 [1]  \n",
            "5                 [1]  \n",
            "6                 [1]  \n",
            "7                 [1]  \n",
            "8                 [1]  \n",
            "9                 [1]  \n"
          ]
        }
      ],
      "source": [
        "import pandas as pd                     \n",
        "\n",
        "\n",
        "col_list = [\"text\",\"Average Sentiment Label\"]\n",
        "df = pd.read_csv(\"/content/maltesedocumenttestiung.csv\", names=col_list, sep=',',  encoding='utf-8-sig')\n",
        "\n",
        "\n",
        "\n",
        "  #Create a dictionary with translated words\n",
        "translatedCSV = { \"text\":[], \"Average Sentiment Label\":[], \"predicted sentiment\":[] } #Change the column names accordingly to your coumns names\n",
        " \n",
        "ind = 0\n",
        "count = 0\n",
        "    #Translated word one by one from the CSV file and save them to the dictionary\n",
        "for index, row in df.iterrows():\n",
        "    print(count)\n",
        "    translatedCSV[\"text\"].append(text12[count])\n",
        "    translatedCSV[\"Average Sentiment Label\"].append(sentiment12[count])\n",
        "    translatedCSV[\"predicted sentiment\"].append(prediction12[count])\n",
        "    count = count + 1\n",
        "    ind = ind + 1\n",
        "\n",
        "    #Create a Dataframe from Dictionary \n",
        "    #Save the DataFrame to a CSV file\n",
        "    if(ind == 10):    \n",
        "      break\n",
        "\n",
        "\n",
        "df = pd.DataFrame(data=translatedCSV)\n",
        "df.to_csv(r'/content/sample_data/1langaugeSVM1STApproachDocument.csv')\n",
        "\n",
        "print(df)\n",
        "\n",
        "\n",
        "df.to_csv(\"2 label svm 2appraoch doc.csv\", encoding='utf-8-sig')"
      ]
    },
    {
      "cell_type": "code",
      "execution_count": null,
      "metadata": {
        "id": "Igpqj6XARTmk"
      },
      "outputs": [],
      "source": [
        "from google.colab import files\n",
        "files.download('English.csv')"
      ]
    }
  ],
  "metadata": {
    "colab": {
      "collapsed_sections": [],
      "provenance": []
    },
    "kernelspec": {
      "display_name": "Python 3",
      "name": "python3"
    },
    "language_info": {
      "name": "python"
    }
  },
  "nbformat": 4,
  "nbformat_minor": 0
}
